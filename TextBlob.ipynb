{
  "nbformat": 4,
  "nbformat_minor": 0,
  "metadata": {
    "kernelspec": {
      "display_name": "Python 3",
      "language": "python",
      "name": "python3"
    },
    "language_info": {
      "codemirror_mode": {
        "name": "ipython",
        "version": 3
      },
      "file_extension": ".py",
      "mimetype": "text/x-python",
      "name": "python",
      "nbconvert_exporter": "python",
      "pygments_lexer": "ipython3",
      "version": "3.7.5"
    },
    "colab": {
      "name": "TextBlob.ipynb",
      "provenance": []
    }
  },
  "cells": [
    {
      "cell_type": "markdown",
      "metadata": {
        "id": "dUwia3Q88vGO",
        "colab_type": "text"
      },
      "source": [
        "## TextBlob"
      ]
    },
    {
      "cell_type": "markdown",
      "metadata": {
        "id": "LgYBuHS79COd",
        "colab_type": "text"
      },
      "source": [
        "Natural Language Process == understanding(processing) everyday language.\n",
        "\n",
        "Natural language processing is a form of artificial intelligence that helps computers read and respond by simulating the human ability to understand everyday language.\n",
        "Many organizations use NLP techniques to optimize customer support,improve the efficiency of text analytics by easily finding the information they need, and enhance social media monitoring. \n",
        "For example, banks might implement NLP algorithms to optimize customer support; a large consumer products brand might combine natural language \n",
        "processing and semantic analysis to improve their knowledge management strategies and social media monitoring"
      ]
    },
    {
      "cell_type": "code",
      "metadata": {
        "id": "3aOAMZ4O8vGQ",
        "colab_type": "code",
        "colab": {}
      },
      "source": [
        ""
      ],
      "execution_count": 1,
      "outputs": []
    },
    {
      "cell_type": "markdown",
      "metadata": {
        "id": "FEVHXsym8vGc",
        "colab_type": "text"
      },
      "source": [
        "TextBlob is a Python (2 and 3) library for processing textual data. It provides a simple API for diving into common natural language processing (NLP) tasks such as part-of-speech tagging, noun phrase extraction, sentiment analysis, classification, translation, and more."
      ]
    },
    {
      "cell_type": "markdown",
      "metadata": {
        "id": "es3COGg-8vGh",
        "colab_type": "text"
      },
      "source": [
        "### Features"
      ]
    },
    {
      "cell_type": "markdown",
      "metadata": {
        "id": "-Lz5RJzs8vGj",
        "colab_type": "text"
      },
      "source": [
        "* Noun phrase extraction\n",
        "* Part-of-speech tagging\n",
        "* Sentiment analysis\n",
        "* Classification (Naive Bayes, Decision Tree)\n",
        "* Tokenization (splitting text into words and sentences)\n",
        "* Word and phrase frequencies\n",
        "* Parsing\n",
        "* n-grams\n",
        "* Word inflection (pluralization and singularization) and lemmatization\n",
        "* Spelling correction\n",
        "* Add new models or languages through extensions\n",
        "* WordNet integration"
      ]
    },
    {
      "cell_type": "markdown",
      "metadata": {
        "id": "dQgzSWI98vGl",
        "colab_type": "text"
      },
      "source": [
        "#### Installing and download necessary corpora"
      ]
    },
    {
      "cell_type": "markdown",
      "metadata": {
        "id": "goTxtBvU8vGm",
        "colab_type": "raw"
      },
      "source": [
        "pip install -U textblob\n",
        "python -m textblob.download_corpora"
      ]
    },
    {
      "cell_type": "code",
      "metadata": {
        "id": "82koKmAs8vGn",
        "colab_type": "code",
        "colab": {}
      },
      "source": [
        "import nltk\n",
        "import textblob"
      ],
      "execution_count": 2,
      "outputs": []
    },
    {
      "cell_type": "code",
      "metadata": {
        "id": "zTAq2ciq-6LG",
        "colab_type": "code",
        "colab": {
          "base_uri": "https://localhost:8080/",
          "height": 243
        },
        "outputId": "cb26e881-f330-4eb4-b806-69384513ef0b"
      },
      "source": [
        "nltk.download('punkt')\n",
        "nltk.download('averaged_perceptron_tagger')\n",
        "nltk.download('brown')\n",
        "nltk.download('movie_reviews')\n",
        "nltk.download('wordnet')"
      ],
      "execution_count": 39,
      "outputs": [
        {
          "output_type": "stream",
          "text": [
            "[nltk_data] Downloading package punkt to /root/nltk_data...\n",
            "[nltk_data]   Package punkt is already up-to-date!\n",
            "[nltk_data] Downloading package averaged_perceptron_tagger to\n",
            "[nltk_data]     /root/nltk_data...\n",
            "[nltk_data]   Package averaged_perceptron_tagger is already up-to-\n",
            "[nltk_data]       date!\n",
            "[nltk_data] Downloading package brown to /root/nltk_data...\n",
            "[nltk_data]   Package brown is already up-to-date!\n",
            "[nltk_data] Downloading package movie_reviews to /root/nltk_data...\n",
            "[nltk_data]   Package movie_reviews is already up-to-date!\n",
            "[nltk_data] Downloading package wordnet to /root/nltk_data...\n",
            "[nltk_data]   Unzipping corpora/wordnet.zip.\n"
          ],
          "name": "stdout"
        },
        {
          "output_type": "execute_result",
          "data": {
            "text/plain": [
              "True"
            ]
          },
          "metadata": {
            "tags": []
          },
          "execution_count": 39
        }
      ]
    },
    {
      "cell_type": "markdown",
      "metadata": {
        "id": "wwGwN_SJ8vGu",
        "colab_type": "text"
      },
      "source": [
        "This will install TextBlob and download the necessary NLTK corpora. If you need to change the default download\n",
        "directory set the NLTK_DATA environment variable."
      ]
    },
    {
      "cell_type": "markdown",
      "metadata": {
        "id": "oIJUyopT8vGv",
        "colab_type": "text"
      },
      "source": [
        "#### Short Tutorial"
      ]
    },
    {
      "cell_type": "markdown",
      "metadata": {
        "id": "OSAcnN0n8vGw",
        "colab_type": "text"
      },
      "source": [
        "TextBlob aims to provide access to common text-processing operations through a familiar interface. You can treat\n",
        "TextBlob objects as if they were Python strings that learned how to do Natural Language Processing."
      ]
    },
    {
      "cell_type": "code",
      "metadata": {
        "id": "GOiy1e-L8vGy",
        "colab_type": "code",
        "colab": {}
      },
      "source": [
        "from textblob import TextBlob\n",
        "sf = TextBlob(\"San Francisco, officially the City and County of San Francisco and colloquially known as SF, San Fran, Frisco, or The City,is the cultural, commercial, and financial center of Northern California. San Francisco is the 16th most populous city in the United States, and the fourth most populous in California, with 881,549 residents as of 2019.It covers an area of about 46.89 square miles (121.4 km2),mostly at the north end of the San Francisco Peninsula in the San Francisco Bay Area, making it the second most densely populated large U.S. city, and the fifth most densely populated U.S. \")"
      ],
      "execution_count": 3,
      "outputs": []
    },
    {
      "cell_type": "markdown",
      "metadata": {
        "id": "3Br_2lMA8vG4",
        "colab_type": "text"
      },
      "source": [
        "### Part-of-speech Tagging"
      ]
    },
    {
      "cell_type": "code",
      "metadata": {
        "id": "0ciFB7sQ8vG6",
        "colab_type": "code",
        "colab": {
          "base_uri": "https://localhost:8080/",
          "height": 1000
        },
        "outputId": "bc69caa0-963c-4b04-83e8-42ffe074e7b4"
      },
      "source": [
        "sf.tags "
      ],
      "execution_count": 8,
      "outputs": [
        {
          "output_type": "execute_result",
          "data": {
            "text/plain": [
              "[('San', 'NNP'),\n",
              " ('Francisco', 'NNP'),\n",
              " ('officially', 'RB'),\n",
              " ('the', 'DT'),\n",
              " ('City', 'NNP'),\n",
              " ('and', 'CC'),\n",
              " ('County', 'NNP'),\n",
              " ('of', 'IN'),\n",
              " ('San', 'NNP'),\n",
              " ('Francisco', 'NNP'),\n",
              " ('and', 'CC'),\n",
              " ('colloquially', 'RB'),\n",
              " ('known', 'VBN'),\n",
              " ('as', 'IN'),\n",
              " ('SF', 'NNP'),\n",
              " ('San', 'NNP'),\n",
              " ('Fran', 'NNP'),\n",
              " ('Frisco', 'NNP'),\n",
              " ('or', 'CC'),\n",
              " ('The', 'DT'),\n",
              " ('City', 'NNP'),\n",
              " ('is', 'VBZ'),\n",
              " ('the', 'DT'),\n",
              " ('cultural', 'JJ'),\n",
              " ('commercial', 'JJ'),\n",
              " ('and', 'CC'),\n",
              " ('financial', 'JJ'),\n",
              " ('center', 'NN'),\n",
              " ('of', 'IN'),\n",
              " ('Northern', 'NNP'),\n",
              " ('California', 'NNP'),\n",
              " ('San', 'NNP'),\n",
              " ('Francisco', 'NNP'),\n",
              " ('is', 'VBZ'),\n",
              " ('the', 'DT'),\n",
              " ('16th', 'CD'),\n",
              " ('most', 'JJS'),\n",
              " ('populous', 'JJ'),\n",
              " ('city', 'NN'),\n",
              " ('in', 'IN'),\n",
              " ('the', 'DT'),\n",
              " ('United', 'NNP'),\n",
              " ('States', 'NNPS'),\n",
              " ('and', 'CC'),\n",
              " ('the', 'DT'),\n",
              " ('fourth', 'JJ'),\n",
              " ('most', 'RBS'),\n",
              " ('populous', 'JJ'),\n",
              " ('in', 'IN'),\n",
              " ('California', 'NNP'),\n",
              " ('with', 'IN'),\n",
              " ('881,549', 'CD'),\n",
              " ('residents', 'NNS'),\n",
              " ('as', 'IN'),\n",
              " ('of', 'IN'),\n",
              " ('2019.It', 'CD'),\n",
              " ('covers', 'NNS'),\n",
              " ('an', 'DT'),\n",
              " ('area', 'NN'),\n",
              " ('of', 'IN'),\n",
              " ('about', 'IN'),\n",
              " ('46.89', 'CD'),\n",
              " ('square', 'JJ'),\n",
              " ('miles', 'NNS'),\n",
              " ('121.4', 'CD'),\n",
              " ('km2', 'NN'),\n",
              " ('mostly', 'RB'),\n",
              " ('at', 'IN'),\n",
              " ('the', 'DT'),\n",
              " ('north', 'JJ'),\n",
              " ('end', 'NN'),\n",
              " ('of', 'IN'),\n",
              " ('the', 'DT'),\n",
              " ('San', 'NNP'),\n",
              " ('Francisco', 'NNP'),\n",
              " ('Peninsula', 'NNP'),\n",
              " ('in', 'IN'),\n",
              " ('the', 'DT'),\n",
              " ('San', 'NNP'),\n",
              " ('Francisco', 'NNP'),\n",
              " ('Bay', 'NNP'),\n",
              " ('Area', 'NNP'),\n",
              " ('making', 'VBG'),\n",
              " ('it', 'PRP'),\n",
              " ('the', 'DT'),\n",
              " ('second', 'JJ'),\n",
              " ('most', 'RBS'),\n",
              " ('densely', 'RB'),\n",
              " ('populated', 'JJ'),\n",
              " ('large', 'JJ'),\n",
              " ('U.S.', 'NNP'),\n",
              " ('city', 'NN'),\n",
              " ('and', 'CC'),\n",
              " ('the', 'DT'),\n",
              " ('fifth', 'NN'),\n",
              " ('most', 'RBS'),\n",
              " ('densely', 'RB'),\n",
              " ('populated', 'JJ'),\n",
              " ('U.S', 'NNP')]"
            ]
          },
          "metadata": {
            "tags": []
          },
          "execution_count": 8
        }
      ]
    },
    {
      "cell_type": "code",
      "metadata": {
        "id": "0dCWJsqa-opM",
        "colab_type": "code",
        "colab": {
          "base_uri": "https://localhost:8080/",
          "height": 1000
        },
        "outputId": "cc38e434-f463-4b1b-aae3-65b56cf381cc"
      },
      "source": [
        "sf.pos_tags"
      ],
      "execution_count": 9,
      "outputs": [
        {
          "output_type": "execute_result",
          "data": {
            "text/plain": [
              "[('San', 'NNP'),\n",
              " ('Francisco', 'NNP'),\n",
              " ('officially', 'RB'),\n",
              " ('the', 'DT'),\n",
              " ('City', 'NNP'),\n",
              " ('and', 'CC'),\n",
              " ('County', 'NNP'),\n",
              " ('of', 'IN'),\n",
              " ('San', 'NNP'),\n",
              " ('Francisco', 'NNP'),\n",
              " ('and', 'CC'),\n",
              " ('colloquially', 'RB'),\n",
              " ('known', 'VBN'),\n",
              " ('as', 'IN'),\n",
              " ('SF', 'NNP'),\n",
              " ('San', 'NNP'),\n",
              " ('Fran', 'NNP'),\n",
              " ('Frisco', 'NNP'),\n",
              " ('or', 'CC'),\n",
              " ('The', 'DT'),\n",
              " ('City', 'NNP'),\n",
              " ('is', 'VBZ'),\n",
              " ('the', 'DT'),\n",
              " ('cultural', 'JJ'),\n",
              " ('commercial', 'JJ'),\n",
              " ('and', 'CC'),\n",
              " ('financial', 'JJ'),\n",
              " ('center', 'NN'),\n",
              " ('of', 'IN'),\n",
              " ('Northern', 'NNP'),\n",
              " ('California', 'NNP'),\n",
              " ('San', 'NNP'),\n",
              " ('Francisco', 'NNP'),\n",
              " ('is', 'VBZ'),\n",
              " ('the', 'DT'),\n",
              " ('16th', 'CD'),\n",
              " ('most', 'JJS'),\n",
              " ('populous', 'JJ'),\n",
              " ('city', 'NN'),\n",
              " ('in', 'IN'),\n",
              " ('the', 'DT'),\n",
              " ('United', 'NNP'),\n",
              " ('States', 'NNPS'),\n",
              " ('and', 'CC'),\n",
              " ('the', 'DT'),\n",
              " ('fourth', 'JJ'),\n",
              " ('most', 'RBS'),\n",
              " ('populous', 'JJ'),\n",
              " ('in', 'IN'),\n",
              " ('California', 'NNP'),\n",
              " ('with', 'IN'),\n",
              " ('881,549', 'CD'),\n",
              " ('residents', 'NNS'),\n",
              " ('as', 'IN'),\n",
              " ('of', 'IN'),\n",
              " ('2019.It', 'CD'),\n",
              " ('covers', 'NNS'),\n",
              " ('an', 'DT'),\n",
              " ('area', 'NN'),\n",
              " ('of', 'IN'),\n",
              " ('about', 'IN'),\n",
              " ('46.89', 'CD'),\n",
              " ('square', 'JJ'),\n",
              " ('miles', 'NNS'),\n",
              " ('121.4', 'CD'),\n",
              " ('km2', 'NN'),\n",
              " ('mostly', 'RB'),\n",
              " ('at', 'IN'),\n",
              " ('the', 'DT'),\n",
              " ('north', 'JJ'),\n",
              " ('end', 'NN'),\n",
              " ('of', 'IN'),\n",
              " ('the', 'DT'),\n",
              " ('San', 'NNP'),\n",
              " ('Francisco', 'NNP'),\n",
              " ('Peninsula', 'NNP'),\n",
              " ('in', 'IN'),\n",
              " ('the', 'DT'),\n",
              " ('San', 'NNP'),\n",
              " ('Francisco', 'NNP'),\n",
              " ('Bay', 'NNP'),\n",
              " ('Area', 'NNP'),\n",
              " ('making', 'VBG'),\n",
              " ('it', 'PRP'),\n",
              " ('the', 'DT'),\n",
              " ('second', 'JJ'),\n",
              " ('most', 'RBS'),\n",
              " ('densely', 'RB'),\n",
              " ('populated', 'JJ'),\n",
              " ('large', 'JJ'),\n",
              " ('U.S.', 'NNP'),\n",
              " ('city', 'NN'),\n",
              " ('and', 'CC'),\n",
              " ('the', 'DT'),\n",
              " ('fifth', 'NN'),\n",
              " ('most', 'RBS'),\n",
              " ('densely', 'RB'),\n",
              " ('populated', 'JJ'),\n",
              " ('U.S', 'NNP')]"
            ]
          },
          "metadata": {
            "tags": []
          },
          "execution_count": 9
        }
      ]
    },
    {
      "cell_type": "markdown",
      "metadata": {
        "id": "1FNjqjqQ8vHC",
        "colab_type": "text"
      },
      "source": [
        "TextBlob currently has two POS tagger implementations, located in textblob.taggers. The default is the\n",
        "PatternTagger which uses the same implementation as the pattern library.\n",
        "\n",
        "The second implementation is NLTKTagger which uses NLTK’s TreeBank tagger. Numpy is required to use the\n",
        "NLTKTagger.\n",
        "\n",
        "Similar to the tokenizers and noun phrase chunkers, you can explicitly specify which POS tagger to use by passing a\n",
        "tagger instance to the constructor."
      ]
    },
    {
      "cell_type": "code",
      "metadata": {
        "id": "SAZFSeVA8vHD",
        "colab_type": "code",
        "colab": {
          "base_uri": "https://localhost:8080/",
          "height": 34
        },
        "outputId": "29c6ab47-6c78-4ab1-e7f6-ae0409862fa1"
      },
      "source": [
        "\n",
        "from textblob.taggers import NLTKTagger\n",
        "nltk_tagger = NLTKTagger()\n",
        "blob = TextBlob(\"Tag! You're It!\", pos_tagger=nltk_tagger)\n",
        "blob.pos_tags\n"
      ],
      "execution_count": 10,
      "outputs": [
        {
          "output_type": "execute_result",
          "data": {
            "text/plain": [
              "[('Tag', 'NN'), ('You', 'PRP'), (\"'re\", 'VBP'), ('It', 'PRP')]"
            ]
          },
          "metadata": {
            "tags": []
          },
          "execution_count": 10
        }
      ]
    },
    {
      "cell_type": "code",
      "metadata": {
        "id": "Wcgbm0r_8vHJ",
        "colab_type": "code",
        "colab": {}
      },
      "source": [
        ""
      ],
      "execution_count": null,
      "outputs": []
    },
    {
      "cell_type": "code",
      "metadata": {
        "id": "yW2dewDM8vHN",
        "colab_type": "code",
        "colab": {}
      },
      "source": [
        ""
      ],
      "execution_count": null,
      "outputs": []
    },
    {
      "cell_type": "markdown",
      "metadata": {
        "id": "NjW9DjOn8vHU",
        "colab_type": "text"
      },
      "source": [
        "### Noun Phrase Extraction"
      ]
    },
    {
      "cell_type": "code",
      "metadata": {
        "id": "qFjI14Th8vHU",
        "colab_type": "code",
        "colab": {},
        "outputId": "c5999c41-dfa4-4231-ba31-0038eb15ea3f"
      },
      "source": [
        "sf.noun_phrases"
      ],
      "execution_count": null,
      "outputs": [
        {
          "output_type": "execute_result",
          "data": {
            "text/plain": [
              "WordList(['san francisco', 'sf', 'san fran', 'frisco', 'financial center', 'california', 'san francisco', 'populous city', 'california', 'square miles', 'san francisco peninsula', 'san francisco', 'bay area', 'u.s.', 'u.s'])"
            ]
          },
          "metadata": {
            "tags": []
          },
          "execution_count": 87
        }
      ]
    },
    {
      "cell_type": "code",
      "metadata": {
        "id": "ABkGydOO_Wv_",
        "colab_type": "code",
        "colab": {
          "base_uri": "https://localhost:8080/",
          "height": 52
        },
        "outputId": "974513db-30c4-4116-a20f-5b75123c2585"
      },
      "source": [
        "blob2 = TextBlob(\"Google is great search engine for finding almost anything \")\n",
        "for np in blob2.noun_phrases:\n",
        "    print(np)\n",
        "    "
      ],
      "execution_count": 13,
      "outputs": [
        {
          "output_type": "stream",
          "text": [
            "google\n",
            "great search engine\n"
          ],
          "name": "stdout"
        }
      ]
    },
    {
      "cell_type": "markdown",
      "metadata": {
        "id": "8NACkuRL8vHa",
        "colab_type": "text"
      },
      "source": [
        "TextBlob currently has two noun phrases chunker implementations, textblob.np_extractors, FastNPExtractor\n",
        "\n",
        "np_extractors.ConllExtractor, which uses the CoNLL 2000 corpus to train a tagger.\n",
        "You can change the chunker implementation (or even use your own) by explicitly passing an instance of a noun phrase\n",
        "extractor to a TextBlob’s constructor."
      ]
    },
    {
      "cell_type": "code",
      "metadata": {
        "id": "WpwOyu1y8vHb",
        "colab_type": "code",
        "colab": {},
        "outputId": "b86bb6c3-3fd5-4da1-c6b2-8a2b76040d04"
      },
      "source": [
        "from textblob import TextBlob\n",
        "from textblob.np_extractors import ConllExtractor\n",
        "extractor = ConllExtractor()\n",
        "blob = TextBlob(\"Python is a high-level programming language.\", np_extractor=extractor)\n",
        "blob.noun_phrases"
      ],
      "execution_count": null,
      "outputs": [
        {
          "output_type": "execute_result",
          "data": {
            "text/plain": [
              "WordList(['python', 'high-level programming language'])"
            ]
          },
          "metadata": {
            "tags": []
          },
          "execution_count": 112
        }
      ]
    },
    {
      "cell_type": "code",
      "metadata": {
        "id": "ChvB5zaQ8vHg",
        "colab_type": "code",
        "colab": {}
      },
      "source": [
        ""
      ],
      "execution_count": null,
      "outputs": []
    },
    {
      "cell_type": "code",
      "metadata": {
        "id": "ntZ1-lmx8vHn",
        "colab_type": "code",
        "colab": {}
      },
      "source": [
        ""
      ],
      "execution_count": null,
      "outputs": []
    },
    {
      "cell_type": "markdown",
      "metadata": {
        "id": "c_CQkZYK8vHr",
        "colab_type": "text"
      },
      "source": [
        "### Sentiment Analysis"
      ]
    },
    {
      "cell_type": "markdown",
      "metadata": {
        "id": "KiveuOwc8vHs",
        "colab_type": "text"
      },
      "source": [
        "\n",
        "- Opinion Minining or Emotion AI\n",
        "- Categorizing opinions and attitude expressed in a piece of text(positive, negative, or neutral)\n",
        "- Determining the attitude of a speaker or a writer with respect to some topic\n",
        "\n",
        "\n",
        "The textblob.sentiments module contains two sentiment analysis implementations, PatternAnalyzer\n",
        "(based on the pattern library) and NaiveBayesAnalyzer (an NLTK classifier trained on a movie reviews corpus).\n",
        "\n",
        "The default implementation is PatternAnalyzer, but you can override the analyzer by passing another implemen-\n",
        "tation into a TextBlob’s constructor.\n",
        "\n",
        "For instance, the NaiveBayesAnalyzer returns\n",
        "Sentiment(classification, p_pos, p_neg)."
      ]
    },
    {
      "cell_type": "code",
      "metadata": {
        "id": "sP80ndGT8vHt",
        "colab_type": "code",
        "colab": {}
      },
      "source": [
        ""
      ],
      "execution_count": null,
      "outputs": []
    },
    {
      "cell_type": "code",
      "metadata": {
        "id": "kY3p3SH48vHy",
        "colab_type": "code",
        "colab": {
          "base_uri": "https://localhost:8080/",
          "height": 34
        },
        "outputId": "9d7e08c8-ee89-4a58-a05e-bc78750653b5"
      },
      "source": [
        "testimonial = TextBlob(\"Textblob is amazingly simple to use. What great fun!\")\n",
        "testimonial.sentiment"
      ],
      "execution_count": 14,
      "outputs": [
        {
          "output_type": "execute_result",
          "data": {
            "text/plain": [
              "Sentiment(polarity=0.39166666666666666, subjectivity=0.4357142857142857)"
            ]
          },
          "metadata": {
            "tags": []
          },
          "execution_count": 14
        }
      ]
    },
    {
      "cell_type": "code",
      "metadata": {
        "id": "3TCHvNkK8vH4",
        "colab_type": "code",
        "colab": {
          "base_uri": "https://localhost:8080/",
          "height": 34
        },
        "outputId": "d1eab181-dc86-421c-ca6c-11931df14048"
      },
      "source": [
        "testimonial.sentiment.polarity"
      ],
      "execution_count": 15,
      "outputs": [
        {
          "output_type": "execute_result",
          "data": {
            "text/plain": [
              "0.39166666666666666"
            ]
          },
          "metadata": {
            "tags": []
          },
          "execution_count": 15
        }
      ]
    },
    {
      "cell_type": "code",
      "metadata": {
        "id": "nkrCswYy8vH8",
        "colab_type": "code",
        "colab": {
          "base_uri": "https://localhost:8080/",
          "height": 34
        },
        "outputId": "16711592-4388-49bc-8341-99249248ed07"
      },
      "source": [
        "from textblob.sentiments import NaiveBayesAnalyzer\n",
        "blob = TextBlob(\"I love this library\", analyzer=NaiveBayesAnalyzer())\n",
        "blob.sentiment"
      ],
      "execution_count": 18,
      "outputs": [
        {
          "output_type": "execute_result",
          "data": {
            "text/plain": [
              "Sentiment(classification='pos', p_pos=0.7996209910191279, p_neg=0.2003790089808724)"
            ]
          },
          "metadata": {
            "tags": []
          },
          "execution_count": 18
        }
      ]
    },
    {
      "cell_type": "code",
      "metadata": {
        "id": "iu6Du8fg8vIB",
        "colab_type": "code",
        "colab": {
          "base_uri": "https://localhost:8080/",
          "height": 173
        },
        "outputId": "73b8630e-1170-4062-90f8-464017b31082"
      },
      "source": [
        "myfeelings = [\"I love my phone but would not recommend it to any of my colleagues\",\n",
        "              \"I love this watch\",\n",
        "              \"This is an amazing library\",\n",
        "              \"I do not like this restaurant\",\n",
        "              \"Wow what a great tip.\",\n",
        "             \"a surprisingly interesting movie\",\n",
        "              \"hard to resist\",\n",
        "              \"one lousy film\",\n",
        "              \"this is too long\"]\n",
        "\n",
        "### Uses PatternAnalyzer(Default) or NaiveBayesAnalyzer\n",
        "# How To Use the NaiveBayesAnalyser\n",
        "# from textblob.sentiments import NaiveBayesAnalyzer\n",
        "# blob = TextBlob(\"I love this city\", analyzer=NaiveBayesAnalyzer())\n",
        "\n",
        "for f in myfeelings:\n",
        "    result = TextBlob(f).sentiment.polarity\n",
        "    print(f'{f} ==> polarity:  {result}')"
      ],
      "execution_count": 19,
      "outputs": [
        {
          "output_type": "stream",
          "text": [
            "I love my phone but would not recommend it to any of my colleagues ==> polarity:  0.5\n",
            "I love this watch ==> polarity:  0.5\n",
            "This is an amazing library ==> polarity:  0.6000000000000001\n",
            "I do not like this restaurant ==> polarity:  0.0\n",
            "Wow what a great tip. ==> polarity:  0.45\n",
            "a surprisingly interesting movie ==> polarity:  0.5\n",
            "hard to resist ==> polarity:  -0.2916666666666667\n",
            "one lousy film ==> polarity:  -0.5\n",
            "this is too long ==> polarity:  -0.05\n"
          ],
          "name": "stdout"
        }
      ]
    },
    {
      "cell_type": "code",
      "metadata": {
        "id": "g8pwSO6C8vIF",
        "colab_type": "code",
        "colab": {}
      },
      "source": [
        ""
      ],
      "execution_count": null,
      "outputs": []
    },
    {
      "cell_type": "markdown",
      "metadata": {
        "id": "tYwX2di28vII",
        "colab_type": "text"
      },
      "source": [
        "### Tokenizarion"
      ]
    },
    {
      "cell_type": "markdown",
      "metadata": {
        "id": "8Aua-Q--8vIJ",
        "colab_type": "text"
      },
      "source": [
        "You can break TextBlobs into words or sentences."
      ]
    },
    {
      "cell_type": "code",
      "metadata": {
        "id": "_jeLyz9s8vIL",
        "colab_type": "code",
        "colab": {
          "base_uri": "https://localhost:8080/",
          "height": 54
        },
        "outputId": "e4416260-2767-4f2a-f91a-b59b836d31fd"
      },
      "source": [
        "sf.words"
      ],
      "execution_count": 33,
      "outputs": [
        {
          "output_type": "execute_result",
          "data": {
            "text/plain": [
              "WordList(['San', 'Francisco', 'officially', 'the', 'City', 'and', 'County', 'of', 'San', 'Francisco', 'and', 'colloquially', 'known', 'as', 'SF', 'San', 'Fran', 'Frisco', 'or', 'The', 'City', 'is', 'the', 'cultural', 'commercial', 'and', 'financial', 'center', 'of', 'Northern', 'California', 'San', 'Francisco', 'is', 'the', '16th', 'most', 'populous', 'city', 'in', 'the', 'United', 'States', 'and', 'the', 'fourth', 'most', 'populous', 'in', 'California', 'with', '881,549', 'residents', 'as', 'of', '2019.It', 'covers', 'an', 'area', 'of', 'about', '46.89', 'square', 'miles', '121.4', 'km2', 'mostly', 'at', 'the', 'north', 'end', 'of', 'the', 'San', 'Francisco', 'Peninsula', 'in', 'the', 'San', 'Francisco', 'Bay', 'Area', 'making', 'it', 'the', 'second', 'most', 'densely', 'populated', 'large', 'U.S', 'city', 'and', 'the', 'fifth', 'most', 'densely', 'populated', 'U.S'])"
            ]
          },
          "metadata": {
            "tags": []
          },
          "execution_count": 33
        }
      ]
    },
    {
      "cell_type": "code",
      "metadata": {
        "id": "N7JWo5o-8vIP",
        "colab_type": "code",
        "colab": {
          "base_uri": "https://localhost:8080/",
          "height": 72
        },
        "outputId": "e1677a66-e600-46a3-c378-8ccc4e886ec9"
      },
      "source": [
        "sf.sentences"
      ],
      "execution_count": 34,
      "outputs": [
        {
          "output_type": "execute_result",
          "data": {
            "text/plain": [
              "[Sentence(\"San Francisco, officially the City and County of San Francisco and colloquially known as SF, San Fran, Frisco, or The City,is the cultural, commercial, and financial center of Northern California.\"),\n",
              " Sentence(\"San Francisco is the 16th most populous city in the United States, and the fourth most populous in California, with 881,549 residents as of 2019.It covers an area of about 46.89 square miles (121.4 km2),mostly at the north end of the San Francisco Peninsula in the San Francisco Bay Area, making it the second most densely populated large U.S. city, and the fifth most densely populated U.S.\")]"
            ]
          },
          "metadata": {
            "tags": []
          },
          "execution_count": 34
        }
      ]
    },
    {
      "cell_type": "markdown",
      "metadata": {
        "id": "-2BwLV4o8vIS",
        "colab_type": "text"
      },
      "source": [
        "Sentence objects have the same properties and methods as TextBlobs."
      ]
    },
    {
      "cell_type": "code",
      "metadata": {
        "id": "Xd-Tw5bJ8vIU",
        "colab_type": "code",
        "colab": {},
        "outputId": "6dc73c16-35cd-435b-cfa5-d6bff0154b3f"
      },
      "source": [
        "for sentence in sf.sentences:\n",
        "    print(sentence.sentiment)"
      ],
      "execution_count": null,
      "outputs": [
        {
          "output_type": "stream",
          "text": [
            "Sentiment(polarity=0.0, subjectivity=0.05)\n",
            "Sentiment(polarity=0.3163265306122449, subjectivity=0.34693877551020413)\n"
          ],
          "name": "stdout"
        }
      ]
    },
    {
      "cell_type": "markdown",
      "metadata": {
        "id": "wGPCTBTk8vIY",
        "colab_type": "text"
      },
      "source": [
        "The words and sentences properties are helpers that use the textblob.tokenizers.WordTokenizer\n",
        "and textblob.tokenizers.SentenceTokenizer classes, respectively.\n",
        "You can use other tokenizers, such as those provided by NLTK, by passing them into the TextBlob constructor then\n",
        "accessing the tokens property."
      ]
    },
    {
      "cell_type": "code",
      "metadata": {
        "id": "3Wn3o-fS8vIY",
        "colab_type": "code",
        "colab": {},
        "outputId": "ccf07764-aac9-4e24-cfc6-26381a49a414"
      },
      "source": [
        "from textblob import TextBlob\n",
        "from nltk.tokenize import TabTokenizer\n",
        "tokenizer = TabTokenizer()\n",
        "blob = TextBlob(\"This is\\ta rather tabby\\tblob.\", tokenizer=tokenizer)\n",
        "blob.tokens"
      ],
      "execution_count": null,
      "outputs": [
        {
          "output_type": "execute_result",
          "data": {
            "text/plain": [
              "WordList(['This is', 'a rather tabby', 'blob.'])"
            ]
          },
          "metadata": {
            "tags": []
          },
          "execution_count": 111
        }
      ]
    },
    {
      "cell_type": "code",
      "metadata": {
        "id": "8gJ0aCJN8vIe",
        "colab_type": "code",
        "colab": {}
      },
      "source": [
        ""
      ],
      "execution_count": null,
      "outputs": []
    },
    {
      "cell_type": "markdown",
      "metadata": {
        "id": "TGdNH35j8vIi",
        "colab_type": "text"
      },
      "source": [
        "### Words Inflection and Lemmatization"
      ]
    },
    {
      "cell_type": "markdown",
      "metadata": {
        "id": "LIidqzFO8vIk",
        "colab_type": "text"
      },
      "source": [
        "Each word in TextBlob.words or Sentence.words is a Word object (a subclass of unicode) with useful\n",
        "methods, e.g. for word inflection."
      ]
    },
    {
      "cell_type": "code",
      "metadata": {
        "id": "7QkeQiUt8vIm",
        "colab_type": "code",
        "colab": {
          "base_uri": "https://localhost:8080/",
          "height": 34
        },
        "outputId": "4cf90629-d1d5-4da9-9b99-4dc7d2c89b89"
      },
      "source": [
        "sentence = TextBlob('Use 4 spaces per indentation level.')\n",
        "sentence.words"
      ],
      "execution_count": 35,
      "outputs": [
        {
          "output_type": "execute_result",
          "data": {
            "text/plain": [
              "WordList(['Use', '4', 'spaces', 'per', 'indentation', 'level'])"
            ]
          },
          "metadata": {
            "tags": []
          },
          "execution_count": 35
        }
      ]
    },
    {
      "cell_type": "code",
      "metadata": {
        "id": "a-Ckroms8vIq",
        "colab_type": "code",
        "colab": {
          "base_uri": "https://localhost:8080/",
          "height": 35
        },
        "outputId": "3c7956df-4782-4da4-d6bb-cb349d4511c7"
      },
      "source": [
        "sentence.words[2].singularize()"
      ],
      "execution_count": 36,
      "outputs": [
        {
          "output_type": "execute_result",
          "data": {
            "application/vnd.google.colaboratory.intrinsic": {
              "type": "string"
            },
            "text/plain": [
              "'space'"
            ]
          },
          "metadata": {
            "tags": []
          },
          "execution_count": 36
        }
      ]
    },
    {
      "cell_type": "code",
      "metadata": {
        "id": "zlXd1tXk8vIu",
        "colab_type": "code",
        "colab": {
          "base_uri": "https://localhost:8080/",
          "height": 35
        },
        "outputId": "bcbdee19-8cfa-44b7-d791-dde00c1f7492"
      },
      "source": [
        "sentence.words[-1].pluralize()"
      ],
      "execution_count": 37,
      "outputs": [
        {
          "output_type": "execute_result",
          "data": {
            "application/vnd.google.colaboratory.intrinsic": {
              "type": "string"
            },
            "text/plain": [
              "'levels'"
            ]
          },
          "metadata": {
            "tags": []
          },
          "execution_count": 37
        }
      ]
    },
    {
      "cell_type": "markdown",
      "metadata": {
        "id": "HKAUN02Y8vIx",
        "colab_type": "text"
      },
      "source": [
        "Words can be lemmatized by calling the lemmatize method."
      ]
    },
    {
      "cell_type": "code",
      "metadata": {
        "id": "RAVz9SbR8vIx",
        "colab_type": "code",
        "colab": {
          "base_uri": "https://localhost:8080/",
          "height": 35
        },
        "outputId": "e8be2459-531e-40ec-8076-69621ae65a8e"
      },
      "source": [
        "from textblob import Word\n",
        "w = Word(\"octopi\")\n",
        "w.lemmatize()\n",
        "\n"
      ],
      "execution_count": 40,
      "outputs": [
        {
          "output_type": "execute_result",
          "data": {
            "application/vnd.google.colaboratory.intrinsic": {
              "type": "string"
            },
            "text/plain": [
              "'octopus'"
            ]
          },
          "metadata": {
            "tags": []
          },
          "execution_count": 40
        }
      ]
    },
    {
      "cell_type": "code",
      "metadata": {
        "id": "UfIlBwlmKvxj",
        "colab_type": "code",
        "colab": {}
      },
      "source": [
        ""
      ],
      "execution_count": 41,
      "outputs": []
    },
    {
      "cell_type": "code",
      "metadata": {
        "id": "ZVdCblEj8vI1",
        "colab_type": "code",
        "colab": {},
        "outputId": "6a72a169-311c-45ea-c71b-47ee6682e350"
      },
      "source": [
        "w = Word(\"went\")\n",
        "w.lemmatize(\"v\")# Pass in WordNet part of speech (verb)"
      ],
      "execution_count": null,
      "outputs": [
        {
          "output_type": "execute_result",
          "data": {
            "text/plain": [
              "'go'"
            ]
          },
          "metadata": {
            "tags": []
          },
          "execution_count": 108
        }
      ]
    },
    {
      "cell_type": "code",
      "metadata": {
        "id": "V5UCD4z-8vI6",
        "colab_type": "code",
        "colab": {},
        "outputId": "f11e478c-324d-418a-a89a-65d21056a11e"
      },
      "source": [
        "Word(\"octopus\").definitions"
      ],
      "execution_count": null,
      "outputs": [
        {
          "output_type": "execute_result",
          "data": {
            "text/plain": [
              "['tentacles of octopus prepared as food',\n",
              " 'bottom-living cephalopod having a soft oval body with eight long tentacles']"
            ]
          },
          "metadata": {
            "tags": []
          },
          "execution_count": 109
        }
      ]
    },
    {
      "cell_type": "markdown",
      "metadata": {
        "id": "Nt1w0RBo8vI8",
        "colab_type": "text"
      },
      "source": [
        "### WordLists"
      ]
    },
    {
      "cell_type": "markdown",
      "metadata": {
        "id": "CZzBjnYX8vI8",
        "colab_type": "text"
      },
      "source": [
        "A WordList is just a Python list with additional methods."
      ]
    },
    {
      "cell_type": "code",
      "metadata": {
        "id": "2V--8ouo8vI9",
        "colab_type": "code",
        "colab": {},
        "outputId": "35c5615b-b7cd-4025-e0ba-c381180a0dae"
      },
      "source": [
        "animals = TextBlob(\"cat dog octopus\")\n",
        "animals.words\n",
        "\n",
        "\n"
      ],
      "execution_count": null,
      "outputs": [
        {
          "output_type": "execute_result",
          "data": {
            "text/plain": [
              "WordList(['cat', 'dog', 'octopus'])"
            ]
          },
          "metadata": {
            "tags": []
          },
          "execution_count": 102
        }
      ]
    },
    {
      "cell_type": "code",
      "metadata": {
        "id": "uDcRFezF8vJB",
        "colab_type": "code",
        "colab": {},
        "outputId": "e8e560ea-5c7b-4183-c4fa-f7c8dd88be69"
      },
      "source": [
        "animals.words.pluralize()"
      ],
      "execution_count": null,
      "outputs": [
        {
          "output_type": "execute_result",
          "data": {
            "text/plain": [
              "WordList(['cats', 'dogs', 'octopodes'])"
            ]
          },
          "metadata": {
            "tags": []
          },
          "execution_count": 103
        }
      ]
    },
    {
      "cell_type": "markdown",
      "metadata": {
        "id": "nljMhNkT8vJH",
        "colab_type": "text"
      },
      "source": [
        "### Spelling Correction"
      ]
    },
    {
      "cell_type": "markdown",
      "metadata": {
        "id": "6qiSK6Xo8vJI",
        "colab_type": "text"
      },
      "source": [
        "Use the correct() method to attempt spelling correction."
      ]
    },
    {
      "cell_type": "code",
      "metadata": {
        "id": "cKBYjecX8vJI",
        "colab_type": "code",
        "colab": {}
      },
      "source": [
        ""
      ],
      "execution_count": null,
      "outputs": []
    },
    {
      "cell_type": "code",
      "metadata": {
        "id": "iUn3iLSN8vJL",
        "colab_type": "code",
        "colab": {},
        "outputId": "0aa09e40-3ad0-4490-a88b-dbdf1d33ceca"
      },
      "source": [
        "b = TextBlob(\"I havv goood speling!\")\n",
        "print(b.correct())"
      ],
      "execution_count": null,
      "outputs": [
        {
          "output_type": "stream",
          "text": [
            "I have good spelling!\n"
          ],
          "name": "stdout"
        }
      ]
    },
    {
      "cell_type": "markdown",
      "metadata": {
        "id": "fgAmOBzW8vJO",
        "colab_type": "text"
      },
      "source": [
        "Word objects have a spellcheck() Word.spellcheck() method that returns a list of (word,\n",
        "confidence) tuples with spelling suggestions."
      ]
    },
    {
      "cell_type": "code",
      "metadata": {
        "id": "vTXTqTD38vJP",
        "colab_type": "code",
        "colab": {},
        "outputId": "e283504d-f7f9-474e-82a6-052d4c1b3251"
      },
      "source": [
        "w = Word('falibility')\n",
        "w.spellcheck()"
      ],
      "execution_count": null,
      "outputs": [
        {
          "output_type": "execute_result",
          "data": {
            "text/plain": [
              "[('fallibility', 1.0)]"
            ]
          },
          "metadata": {
            "tags": []
          },
          "execution_count": 28
        }
      ]
    },
    {
      "cell_type": "markdown",
      "metadata": {
        "id": "HBdgLttg8vJg",
        "colab_type": "text"
      },
      "source": [
        "### Get Word and Noun Phrase Frequencies"
      ]
    },
    {
      "cell_type": "markdown",
      "metadata": {
        "id": "Dy8pg4mV8vJh",
        "colab_type": "text"
      },
      "source": [
        "There are two ways to get the frequency of a word or noun phrase in a TextBlob.\n",
        "\n",
        "The first is through the word_counts dictionary."
      ]
    },
    {
      "cell_type": "code",
      "metadata": {
        "id": "8vx7Amm38vJh",
        "colab_type": "code",
        "colab": {},
        "outputId": "a4f6a6be-2043-4d38-8ab5-247be2d3adee"
      },
      "source": [
        "monty = TextBlob(\"We are no longer the Knights who say Ni. \"\n",
        "\"We are now the Knights who say Ekki ekki ekki PTANG.\")\n",
        "\n",
        "monty.word_counts['ekki']"
      ],
      "execution_count": null,
      "outputs": [
        {
          "output_type": "execute_result",
          "data": {
            "text/plain": [
              "3"
            ]
          },
          "metadata": {
            "tags": []
          },
          "execution_count": 30
        }
      ]
    },
    {
      "cell_type": "markdown",
      "metadata": {
        "id": "84p6qBSj8vJk",
        "colab_type": "text"
      },
      "source": [
        "If you access the frequencies this way, the search will not be case sensitive, and words that are not found will have a\n",
        "frequency of 0.\n",
        "\n",
        "The second way is to use the count() method."
      ]
    },
    {
      "cell_type": "code",
      "metadata": {
        "id": "hgsv28e-8vJl",
        "colab_type": "code",
        "colab": {},
        "outputId": "4f764555-3d51-49dc-e8e9-ab3f50b017b0"
      },
      "source": [
        "monty.words.count('ekki', case_sensitive=True)"
      ],
      "execution_count": null,
      "outputs": [
        {
          "output_type": "execute_result",
          "data": {
            "text/plain": [
              "2"
            ]
          },
          "metadata": {
            "tags": []
          },
          "execution_count": 31
        }
      ]
    },
    {
      "cell_type": "code",
      "metadata": {
        "id": "Tt3IkGlx8vJn",
        "colab_type": "code",
        "colab": {},
        "outputId": "0e8476bd-d610-4f9e-9b04-94e09965974d"
      },
      "source": [
        "sf.noun_phrases.count('San Francisco')"
      ],
      "execution_count": null,
      "outputs": [
        {
          "output_type": "execute_result",
          "data": {
            "text/plain": [
              "3"
            ]
          },
          "metadata": {
            "tags": []
          },
          "execution_count": 35
        }
      ]
    },
    {
      "cell_type": "markdown",
      "metadata": {
        "id": "-DsUDbq48vJv",
        "colab_type": "text"
      },
      "source": [
        "### TextBlobs Are Like Python Strings!"
      ]
    },
    {
      "cell_type": "markdown",
      "metadata": {
        "id": "_r8DJbCt8vJv",
        "colab_type": "text"
      },
      "source": [
        "You can use Python’s substring syntax."
      ]
    },
    {
      "cell_type": "code",
      "metadata": {
        "id": "e3qruQkf8vJw",
        "colab_type": "code",
        "colab": {},
        "outputId": "92b66843-c15a-496b-b618-ef67829282dc"
      },
      "source": [
        "sf[0:200]"
      ],
      "execution_count": null,
      "outputs": [
        {
          "output_type": "execute_result",
          "data": {
            "text/plain": [
              "TextBlob(\"San Francisco, officially the City and County of San Francisco and colloquially known as SF, San Fran, Frisco, or The City,is the cultural, commercial, and financial center of Northern California. San\")"
            ]
          },
          "metadata": {
            "tags": []
          },
          "execution_count": 114
        }
      ]
    },
    {
      "cell_type": "markdown",
      "metadata": {
        "id": "frSqAo_58vJ0",
        "colab_type": "text"
      },
      "source": [
        "You can make comparisons between TextBlobs and strings."
      ]
    },
    {
      "cell_type": "code",
      "metadata": {
        "id": "qis0MFAJ8vJ0",
        "colab_type": "code",
        "colab": {},
        "outputId": "768a6cb1-0aa9-4311-e98d-0deaa855714f"
      },
      "source": [
        "apple_blob = TextBlob('apples')\n",
        "banana_blob = TextBlob('bananas')\n",
        "apple_blob < banana_blob"
      ],
      "execution_count": null,
      "outputs": [
        {
          "output_type": "execute_result",
          "data": {
            "text/plain": [
              "True"
            ]
          },
          "metadata": {
            "tags": []
          },
          "execution_count": 38
        }
      ]
    },
    {
      "cell_type": "markdown",
      "metadata": {
        "id": "IMngETZM8vJ3",
        "colab_type": "text"
      },
      "source": [
        "You can concatenate and interpolate TextBlobs and strings."
      ]
    },
    {
      "cell_type": "code",
      "metadata": {
        "id": "Yn1HTMu48vJ4",
        "colab_type": "code",
        "colab": {},
        "outputId": "676c6cc6-72ac-41b6-d348-7d5bb3e0ca26"
      },
      "source": [
        "apple_blob + ' and ' + banana_blob"
      ],
      "execution_count": null,
      "outputs": [
        {
          "output_type": "execute_result",
          "data": {
            "text/plain": [
              "TextBlob(\"apples and bananas\")"
            ]
          },
          "metadata": {
            "tags": []
          },
          "execution_count": 39
        }
      ]
    },
    {
      "cell_type": "code",
      "metadata": {
        "id": "5BVK_UQ88vJ6",
        "colab_type": "code",
        "colab": {},
        "outputId": "161e5439-2ac3-4ebf-91d2-1a95e0c70db3"
      },
      "source": [
        "\"{0} and {1}\".format(apple_blob, banana_blob)"
      ],
      "execution_count": null,
      "outputs": [
        {
          "output_type": "execute_result",
          "data": {
            "text/plain": [
              "'apples and bananas'"
            ]
          },
          "metadata": {
            "tags": []
          },
          "execution_count": 40
        }
      ]
    },
    {
      "cell_type": "markdown",
      "metadata": {
        "id": "qbjJ9Uqu8vJ9",
        "colab_type": "text"
      },
      "source": [
        "### n-grams"
      ]
    },
    {
      "cell_type": "markdown",
      "metadata": {
        "id": "BitdxrAq8vJ-",
        "colab_type": "text"
      },
      "source": [
        "The TextBlob.ngrams() method returns a list of tuples of n successive words."
      ]
    },
    {
      "cell_type": "code",
      "metadata": {
        "id": "KG1OlCE_8vJ-",
        "colab_type": "code",
        "colab": {}
      },
      "source": [
        "blob = TextBlob(\"Now is better than never.\")"
      ],
      "execution_count": null,
      "outputs": []
    },
    {
      "cell_type": "code",
      "metadata": {
        "id": "QLsI8E_H8vKC",
        "colab_type": "code",
        "colab": {},
        "outputId": "c8ca0911-a33b-4bf6-b268-515aa07916a4"
      },
      "source": [
        "blob.ngrams(n=3)"
      ],
      "execution_count": null,
      "outputs": [
        {
          "output_type": "execute_result",
          "data": {
            "text/plain": [
              "[WordList(['Now', 'is', 'better']),\n",
              " WordList(['is', 'better', 'than']),\n",
              " WordList(['better', 'than', 'never'])]"
            ]
          },
          "metadata": {
            "tags": []
          },
          "execution_count": 42
        }
      ]
    },
    {
      "cell_type": "markdown",
      "metadata": {
        "id": "G_meYTF3BbNO",
        "colab_type": "text"
      },
      "source": [
        "### What language is it?\n",
        "\n",
        "- detect_language()\n",
        "- translate(to='en')\n"
      ]
    },
    {
      "cell_type": "code",
      "metadata": {
        "id": "Vr6LSuAUBfCB",
        "colab_type": "code",
        "colab": {
          "base_uri": "https://localhost:8080/",
          "height": 35
        },
        "outputId": "98f3450d-375e-4b36-f4bb-8cee46472d51"
      },
      "source": [
        "myword = TextBlob(\"Hello\")\n",
        "myword.detect_language()"
      ],
      "execution_count": 21,
      "outputs": [
        {
          "output_type": "execute_result",
          "data": {
            "application/vnd.google.colaboratory.intrinsic": {
              "type": "string"
            },
            "text/plain": [
              "'en'"
            ]
          },
          "metadata": {
            "tags": []
          },
          "execution_count": 21
        }
      ]
    },
    {
      "cell_type": "code",
      "metadata": {
        "id": "AsSbSqn3Bmc7",
        "colab_type": "code",
        "colab": {
          "base_uri": "https://localhost:8080/",
          "height": 35
        },
        "outputId": "b85dfec9-3219-48a5-d6c5-0705a4f9f7bf"
      },
      "source": [
        "myword2 = TextBlob(\"Привет\")\n",
        "myword2.detect_language()"
      ],
      "execution_count": 20,
      "outputs": [
        {
          "output_type": "execute_result",
          "data": {
            "application/vnd.google.colaboratory.intrinsic": {
              "type": "string"
            },
            "text/plain": [
              "'ru'"
            ]
          },
          "metadata": {
            "tags": []
          },
          "execution_count": 20
        }
      ]
    },
    {
      "cell_type": "code",
      "metadata": {
        "id": "lq5ro5eBBuSp",
        "colab_type": "code",
        "colab": {
          "base_uri": "https://localhost:8080/",
          "height": 34
        },
        "outputId": "a36bc41d-9465-497e-f411-4c3162a63db8"
      },
      "source": [
        "## Translation to French\n",
        "myword.translate(to='fr')"
      ],
      "execution_count": 22,
      "outputs": [
        {
          "output_type": "execute_result",
          "data": {
            "text/plain": [
              "TextBlob(\"Bonjour\")"
            ]
          },
          "metadata": {
            "tags": []
          },
          "execution_count": 22
        }
      ]
    },
    {
      "cell_type": "code",
      "metadata": {
        "id": "jOd09rMJBxgQ",
        "colab_type": "code",
        "colab": {
          "base_uri": "https://localhost:8080/",
          "height": 34
        },
        "outputId": "1dfd4f48-969f-4833-ebee-a17aeb542289"
      },
      "source": [
        "## Translation to Espanol/Spanish\n",
        "myword.translate(to='es')"
      ],
      "execution_count": 23,
      "outputs": [
        {
          "output_type": "execute_result",
          "data": {
            "text/plain": [
              "TextBlob(\"Hola\")"
            ]
          },
          "metadata": {
            "tags": []
          },
          "execution_count": 23
        }
      ]
    },
    {
      "cell_type": "code",
      "metadata": {
        "id": "DaAricPmB5ID",
        "colab_type": "code",
        "colab": {
          "base_uri": "https://localhost:8080/",
          "height": 34
        },
        "outputId": "abb87ef9-9ae3-4548-b41c-f536c4e5cb6c"
      },
      "source": [
        "newtext = \"The Quick brown fox jumped over the lazy dogs.\"\n",
        "eng = TextBlob(newtext)\n",
        "eng.translate(to='fr')\n"
      ],
      "execution_count": 28,
      "outputs": [
        {
          "output_type": "execute_result",
          "data": {
            "text/plain": [
              "TextBlob(\"Le renard brun rapide sauta par-dessus les chiens paresseux.\")"
            ]
          },
          "metadata": {
            "tags": []
          },
          "execution_count": 28
        }
      ]
    },
    {
      "cell_type": "code",
      "metadata": {
        "id": "f8WTLVa3B5Lk",
        "colab_type": "code",
        "colab": {}
      },
      "source": [
        "newfrench_text = \"Le renard brun rapide sauta par-dessus les chiens paresseux.\""
      ],
      "execution_count": 31,
      "outputs": []
    },
    {
      "cell_type": "code",
      "metadata": {
        "id": "faRD8D8mB5OY",
        "colab_type": "code",
        "colab": {
          "base_uri": "https://localhost:8080/",
          "height": 34
        },
        "outputId": "c5e4dfea-78e3-4750-afd3-39d172c45f2c"
      },
      "source": [
        "fr = TextBlob(newfrench_text)\n",
        "fr.translate(to='en')"
      ],
      "execution_count": 32,
      "outputs": [
        {
          "output_type": "execute_result",
          "data": {
            "text/plain": [
              "TextBlob(\"The quick brown fox jumped over the lazy dogs.\")"
            ]
          },
          "metadata": {
            "tags": []
          },
          "execution_count": 32
        }
      ]
    },
    {
      "cell_type": "code",
      "metadata": {
        "id": "VGU-CwVuB5S3",
        "colab_type": "code",
        "colab": {}
      },
      "source": [
        ""
      ],
      "execution_count": null,
      "outputs": []
    },
    {
      "cell_type": "markdown",
      "metadata": {
        "id": "4ax5ywev8vKF",
        "colab_type": "text"
      },
      "source": [
        "### Get Start and End Indices of Sentences"
      ]
    },
    {
      "cell_type": "code",
      "metadata": {
        "id": "DXHc70LV8vKM",
        "colab_type": "code",
        "colab": {},
        "outputId": "d3f72861-bdac-4b32-b734-c29bd322a7d2"
      },
      "source": [
        "for s in sf.sentences:\n",
        "    print(s)\n",
        "    print(\"---- Starts at index {}, Ends at index {}\".format(s.start, s.end))"
      ],
      "execution_count": null,
      "outputs": [
        {
          "output_type": "stream",
          "text": [
            "San Francisco, officially the City and County of San Francisco and colloquially known as SF, San Fran, Frisco, or The City,is the cultural, commercial, and financial center of Northern California.\n",
            "---- Starts at index 0, Ends at index 196\n",
            "San Francisco is the 16th most populous city in the United States, and the fourth most populous in California, with 881,549 residents as of 2019.It covers an area of about 46.89 square miles (121.4 km2),mostly at the north end of the San Francisco Peninsula in the San Francisco Bay Area, making it the second most densely populated large U.S. city, and the fifth most densely populated U.S.\n",
            "---- Starts at index 197, Ends at index 588\n"
          ],
          "name": "stdout"
        }
      ]
    },
    {
      "cell_type": "code",
      "metadata": {
        "id": "IR3IRZV4B4NU",
        "colab_type": "code",
        "colab": {}
      },
      "source": [
        ""
      ],
      "execution_count": null,
      "outputs": []
    },
    {
      "cell_type": "markdown",
      "metadata": {
        "id": "DIFs3tbY8vKP",
        "colab_type": "text"
      },
      "source": [
        "### Building a Text Classification System"
      ]
    },
    {
      "cell_type": "code",
      "metadata": {
        "id": "1HYbWEa88vKP",
        "colab_type": "code",
        "colab": {}
      },
      "source": [
        ""
      ],
      "execution_count": null,
      "outputs": []
    },
    {
      "cell_type": "code",
      "metadata": {
        "id": "d3teqbge8vKS",
        "colab_type": "code",
        "colab": {}
      },
      "source": [
        "train = [\n",
        "('I love this sandwich.', 'pos'),\n",
        "('this is an amazing place!', 'pos'),\n",
        "('I feel very good about these beers.', 'pos'),\n",
        "('this is my best work.', 'pos'),\n",
        "(\"what an awesome view\", 'pos'),\n",
        "('I do not like this restaurant', 'neg'),\n",
        "('I am tired of this stuff.', 'neg'),\n",
        "(\"I can't deal with this\", 'neg'),\n",
        "('he is my sworn enemy!', 'neg'),\n",
        "]"
      ],
      "execution_count": null,
      "outputs": []
    },
    {
      "cell_type": "code",
      "metadata": {
        "id": "PjmAogcp8vKV",
        "colab_type": "code",
        "colab": {}
      },
      "source": [
        "test = [\n",
        "('the beer was good.', 'pos'),\n",
        "('I do not enjoy my job', 'neg'),\n",
        "(\"I ain't feeling dandy today.\", 'neg'),\n",
        "(\"I feel amazing!\", 'pos'),\n",
        "('Gary is a friend of mine.', 'pos'),\n",
        "(\"I can't believe I'm doing this.\", 'neg')\n",
        "]"
      ],
      "execution_count": null,
      "outputs": []
    },
    {
      "cell_type": "code",
      "metadata": {
        "id": "WgV2Hkgu8vKX",
        "colab_type": "code",
        "colab": {}
      },
      "source": [
        "from textblob.classifiers import NaiveBayesClassifier\n",
        "cl = NaiveBayesClassifier(train)"
      ],
      "execution_count": null,
      "outputs": []
    },
    {
      "cell_type": "markdown",
      "metadata": {
        "id": "egxQjTiK8vKZ",
        "colab_type": "text"
      },
      "source": [
        "You can also load data from common file formats including CSV, JSON, and TSV."
      ]
    },
    {
      "cell_type": "code",
      "metadata": {
        "id": "wLhTtXhV8vKa",
        "colab_type": "code",
        "colab": {}
      },
      "source": [
        "'''\n",
        "with open('train.json', 'r') as fp:\n",
        "    cl = NaiveBayesClassifier(fp, format=\"json\")\n",
        "\n",
        "'''    "
      ],
      "execution_count": null,
      "outputs": []
    },
    {
      "cell_type": "code",
      "metadata": {
        "id": "NRGJmWy08vKc",
        "colab_type": "code",
        "colab": {},
        "outputId": "ab017f6e-a193-4dba-a82f-2525e469e5dc"
      },
      "source": [
        "cl.classify(\"This is an amazing library!\")"
      ],
      "execution_count": null,
      "outputs": [
        {
          "output_type": "execute_result",
          "data": {
            "text/plain": [
              "'pos'"
            ]
          },
          "metadata": {
            "tags": []
          },
          "execution_count": 52
        }
      ]
    },
    {
      "cell_type": "code",
      "metadata": {
        "id": "5e2gFlPi8vKf",
        "colab_type": "code",
        "colab": {},
        "outputId": "fe4d4728-3b8e-4e33-a6d3-ef1739ed7102"
      },
      "source": [
        "round(prob_dist.prob(\"pos\"), 2)"
      ],
      "execution_count": null,
      "outputs": [
        {
          "output_type": "execute_result",
          "data": {
            "text/plain": [
              "0.96"
            ]
          },
          "metadata": {
            "tags": []
          },
          "execution_count": 54
        }
      ]
    },
    {
      "cell_type": "markdown",
      "metadata": {
        "id": "63PtjM6H8vKh",
        "colab_type": "text"
      },
      "source": [
        "Another way to classify text is to pass a classifier into the constructor of TextBlob and call its classify()\n",
        "method."
      ]
    },
    {
      "cell_type": "code",
      "metadata": {
        "id": "nFZO6Iby8vKi",
        "colab_type": "code",
        "colab": {},
        "outputId": "3e08eadb-d6b6-4b6a-fd0f-f9a5f235d60e"
      },
      "source": [
        "from textblob import TextBlob\n",
        "blob = TextBlob(\"I do not like this restaurant.I love this sandwich.\", classifier=cl)\n",
        "blob.classify()"
      ],
      "execution_count": null,
      "outputs": [
        {
          "output_type": "execute_result",
          "data": {
            "text/plain": [
              "'pos'"
            ]
          },
          "metadata": {
            "tags": []
          },
          "execution_count": 55
        }
      ]
    },
    {
      "cell_type": "markdown",
      "metadata": {
        "id": "GmHAHiWg8vKl",
        "colab_type": "text"
      },
      "source": [
        "The advantage of this approach is that you can classify sentences within a TextBlob."
      ]
    },
    {
      "cell_type": "code",
      "metadata": {
        "id": "mdR5C9cH8vKm",
        "colab_type": "code",
        "colab": {},
        "outputId": "03ee9adc-7996-49c3-991f-c321c46a37e5"
      },
      "source": [
        "for s in blob.sentences:\n",
        "    print(s)\n",
        "    print(s.classify())"
      ],
      "execution_count": null,
      "outputs": [
        {
          "output_type": "stream",
          "text": [
            "The beer is good.\n",
            "pos\n",
            "But the hangover is horrible.\n",
            "pos\n"
          ],
          "name": "stdout"
        }
      ]
    },
    {
      "cell_type": "markdown",
      "metadata": {
        "id": "JqE1gE0w8vKo",
        "colab_type": "text"
      },
      "source": [
        "### Evaluating Classifiers"
      ]
    },
    {
      "cell_type": "code",
      "metadata": {
        "id": "0tQ3NivX8vKo",
        "colab_type": "code",
        "colab": {},
        "outputId": "81d99f60-1355-4c49-856f-150ac3eac8e3"
      },
      "source": [
        "cl.accuracy(test)"
      ],
      "execution_count": null,
      "outputs": [
        {
          "output_type": "execute_result",
          "data": {
            "text/plain": [
              "1.0"
            ]
          },
          "metadata": {
            "tags": []
          },
          "execution_count": 57
        }
      ]
    },
    {
      "cell_type": "code",
      "metadata": {
        "id": "8_W3UYmY8vK0",
        "colab_type": "code",
        "colab": {}
      },
      "source": [
        ""
      ],
      "execution_count": null,
      "outputs": []
    }
  ]
}
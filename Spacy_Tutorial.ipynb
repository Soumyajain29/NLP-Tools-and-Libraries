{
  "nbformat": 4,
  "nbformat_minor": 0,
  "metadata": {
    "colab": {
      "name": "Spacy_Tutorial",
      "provenance": [],
      "collapsed_sections": [],
      "mount_file_id": "192cyDm9db-p8iQlEJsvNoKYayumlm9Hx",
      "authorship_tag": "ABX9TyO93slY9wDQDMgTK90I1EuN",
      "include_colab_link": false
    },
    "kernelspec": {
      "name": "python3",
      "display_name": "Python 3"
    }
  },
  "cells": [
    {
      "cell_type": "markdown",
      "metadata": {
        "id": "view-in-github",
        "colab_type": "text"
      },
      "source": [
        "<a href=\"https://colab.research.google.com/github/Soumyajain29/NLP-Tools-and-Libraries/blob/master/Spacy_Tutorial.ipynb\" target=\"_parent\"><img src=\"https://colab.research.google.com/assets/colab-badge.svg\" alt=\"Open In Colab\"/></a>"
      ]
    },
    {
      "cell_type": "code",
      "metadata": {
        "id": "CwEjBFeKBobA",
        "colab_type": "code",
        "colab": {}
      },
      "source": [
        "import spacy"
      ],
      "execution_count": 1,
      "outputs": []
    },
    {
      "cell_type": "code",
      "metadata": {
        "id": "1_p0mLnQJKsJ",
        "colab_type": "code",
        "colab": {}
      },
      "source": [
        "#Download model --------->  python -m spacy download en_core_web_sm\n",
        "model = \"en_core_web_md\""
      ],
      "execution_count": 2,
      "outputs": []
    },
    {
      "cell_type": "markdown",
      "metadata": {
        "id": "OrNuyiTysZh4",
        "colab_type": "text"
      },
      "source": [
        "**Model Naming Convention-**\n",
        "\n",
        "[lang]\\_[name]\n",
        "\n",
        "[lang]\\_[type_genre_size]\n",
        "* **type:** Model capabilities (e.g. core for general-purpose model with vocabulary, syntax, entities and word vectors, or depent for only vocab, syntax and entities)\n",
        "***genre:** Type of text the model is trained on (e.g. web for web text, news for news text)\n",
        "***size:** Model size indicator (sm, md or lg)"
      ]
    },
    {
      "cell_type": "code",
      "metadata": {
        "id": "bJt1KdW8wMBL",
        "colab_type": "code",
        "colab": {}
      },
      "source": [
        "#!pip install --user https://github.com/explosion/spacy-models/releases/download/en_core_web_md-2.2.0/en_core_web_md-2.2.0.tar.gz"
      ],
      "execution_count": null,
      "outputs": []
    },
    {
      "cell_type": "markdown",
      "metadata": {
        "id": "N1rs-BRdnWHQ",
        "colab_type": "text"
      },
      "source": [
        "Some models do not exist as a package in its own right on pypi.org or Anaconda, so you can't just pip install it by name. However you can find download links for the model on the [Github page](https://github.com/explosion/spacy-models) and you can pip install directly from one of the download URLs"
      ]
    },
    {
      "cell_type": "code",
      "metadata": {
        "id": "xoUxWq_Iv5qG",
        "colab_type": "code",
        "colab": {
          "base_uri": "https://localhost:8080/",
          "height": 35
        },
        "outputId": "a6adde09-8c6b-4e3f-c53f-2a37648aeec0"
      },
      "source": [
        "nlp = spacy.load(model)\n",
        "type(nlp)\n",
        "#contains the processing pipeline\n",
        "#includes language-specific rules for tokenization etc."
      ],
      "execution_count": 4,
      "outputs": [
        {
          "output_type": "execute_result",
          "data": {
            "text/plain": [
              "spacy.lang.en.English"
            ]
          },
          "metadata": {
            "tags": []
          },
          "execution_count": 4
        }
      ]
    },
    {
      "cell_type": "code",
      "metadata": {
        "id": "L7PV8K_Uq_pj",
        "colab_type": "code",
        "colab": {}
      },
      "source": [
        "#from spacy.lang.en import English\n",
        "#nlp = English()"
      ],
      "execution_count": null,
      "outputs": []
    },
    {
      "cell_type": "code",
      "metadata": {
        "id": "VIeSW6zfwBx6",
        "colab_type": "code",
        "colab": {
          "base_uri": "https://localhost:8080/",
          "height": 35
        },
        "outputId": "716ec3de-b16a-48b5-bf17-0e834ac1ebcb"
      },
      "source": [
        "nlp.pipe_names"
      ],
      "execution_count": 83,
      "outputs": [
        {
          "output_type": "execute_result",
          "data": {
            "text/plain": [
              "['tagger', 'parser', 'ner']"
            ]
          },
          "metadata": {
            "tags": []
          },
          "execution_count": 83
        }
      ]
    },
    {
      "cell_type": "markdown",
      "metadata": {
        "id": "WKH7PVPl57FC",
        "colab_type": "text"
      },
      "source": [
        "![image](https://spacy.io/pipeline-7a14d4edd18f3edfee8f34393bff2992.svg)"
      ]
    },
    {
      "cell_type": "code",
      "metadata": {
        "id": "nLBUaUrqJYCV",
        "colab_type": "code",
        "colab": {}
      },
      "source": [
        "txt = \"\"\"When Sebastian Thrun started working on self-driving cars at Google in 2007, few people outside of the company took him seriously.\"\"\""
      ],
      "execution_count": 50,
      "outputs": []
    },
    {
      "cell_type": "code",
      "metadata": {
        "id": "rLpyXyYiKpqd",
        "colab_type": "code",
        "colab": {}
      },
      "source": [
        "doc = nlp(txt)"
      ],
      "execution_count": 51,
      "outputs": []
    },
    {
      "cell_type": "markdown",
      "metadata": {
        "id": "SLaBEL5LMnrm",
        "colab_type": "text"
      },
      "source": [
        "The Doc behaves like a normal Python sequence and lets you iterate over its tokens, or get a token by its index."
      ]
    },
    {
      "cell_type": "code",
      "metadata": {
        "id": "2Yu-V-ctKu0B",
        "colab_type": "code",
        "colab": {
          "base_uri": "https://localhost:8080/",
          "height": 55
        },
        "outputId": "ccc6850f-9a11-4017-9b0d-1021e5b6122e"
      },
      "source": [
        "#Tokenization\n",
        "tokens = []\n",
        "for token in doc:\n",
        "  tokens.append(token.text)\n",
        "print(tokens)"
      ],
      "execution_count": 52,
      "outputs": [
        {
          "output_type": "stream",
          "text": [
            "['When', 'Sebastian', 'Thrun', 'started', 'working', 'on', 'self', '-', 'driving', 'cars', 'at', 'Google', 'in', '2007', ',', 'few', 'people', 'outside', 'of', 'the', 'company', 'took', 'him', 'seriously', '.']\n"
          ],
          "name": "stdout"
        }
      ]
    },
    {
      "cell_type": "code",
      "metadata": {
        "id": "mrThSbHeLXUS",
        "colab_type": "code",
        "colab": {
          "base_uri": "https://localhost:8080/",
          "height": 35
        },
        "outputId": "08cb2835-4fb6-494c-c85a-421cb6d0ff24"
      },
      "source": [
        "token1 = doc[1]\n",
        "token1.is_punct"
      ],
      "execution_count": 53,
      "outputs": [
        {
          "output_type": "execute_result",
          "data": {
            "text/plain": [
              "False"
            ]
          },
          "metadata": {
            "tags": []
          },
          "execution_count": 53
        }
      ]
    },
    {
      "cell_type": "code",
      "metadata": {
        "id": "nP_nKx04O9QO",
        "colab_type": "code",
        "colab": {
          "base_uri": "https://localhost:8080/",
          "height": 35
        },
        "outputId": "589440b1-7d50-4e82-bc44-6d0009982c58"
      },
      "source": [
        "#span\n",
        "span = doc[2:4]\n",
        "span.text"
      ],
      "execution_count": 54,
      "outputs": [
        {
          "output_type": "execute_result",
          "data": {
            "application/vnd.google.colaboratory.intrinsic": {
              "type": "string"
            },
            "text/plain": [
              "'Thrun started'"
            ]
          },
          "metadata": {
            "tags": []
          },
          "execution_count": 54
        }
      ]
    },
    {
      "cell_type": "code",
      "metadata": {
        "id": "swXQfdFaV9mm",
        "colab_type": "code",
        "colab": {
          "base_uri": "https://localhost:8080/",
          "height": 447
        },
        "outputId": "d1382fe3-a199-494b-c292-aaebe7076c61"
      },
      "source": [
        "from spacy import displacy\n",
        "displacy.render(doc ,style = 'dep' ,jupyter=True , options= {'distance': 90 , 'compact' :True})\n",
        "#https://spacy.io/usage/visualizers"
      ],
      "execution_count": 55,
      "outputs": [
        {
          "output_type": "display_data",
          "data": {
            "text/html": [
              "<span class=\"tex2jax_ignore\"><svg xmlns=\"http://www.w3.org/2000/svg\" xmlns:xlink=\"http://www.w3.org/1999/xlink\" xml:lang=\"en\" id=\"53934d507710433295a254de90b01314-0\" class=\"displacy\" width=\"2030\" height=\"407.0\" direction=\"ltr\" style=\"max-width: none; height: 407.0px; color: #000000; background: #ffffff; font-family: Arial; direction: ltr\">\n",
              "<text class=\"displacy-token\" fill=\"currentColor\" text-anchor=\"middle\" y=\"317.0\">\n",
              "    <tspan class=\"displacy-word\" fill=\"currentColor\" x=\"50\">When</tspan>\n",
              "    <tspan class=\"displacy-tag\" dy=\"2em\" fill=\"currentColor\" x=\"50\">ADV</tspan>\n",
              "</text>\n",
              "\n",
              "<text class=\"displacy-token\" fill=\"currentColor\" text-anchor=\"middle\" y=\"317.0\">\n",
              "    <tspan class=\"displacy-word\" fill=\"currentColor\" x=\"140\">Sebastian</tspan>\n",
              "    <tspan class=\"displacy-tag\" dy=\"2em\" fill=\"currentColor\" x=\"140\">PROPN</tspan>\n",
              "</text>\n",
              "\n",
              "<text class=\"displacy-token\" fill=\"currentColor\" text-anchor=\"middle\" y=\"317.0\">\n",
              "    <tspan class=\"displacy-word\" fill=\"currentColor\" x=\"230\">Thrun</tspan>\n",
              "    <tspan class=\"displacy-tag\" dy=\"2em\" fill=\"currentColor\" x=\"230\">PROPN</tspan>\n",
              "</text>\n",
              "\n",
              "<text class=\"displacy-token\" fill=\"currentColor\" text-anchor=\"middle\" y=\"317.0\">\n",
              "    <tspan class=\"displacy-word\" fill=\"currentColor\" x=\"320\">started</tspan>\n",
              "    <tspan class=\"displacy-tag\" dy=\"2em\" fill=\"currentColor\" x=\"320\">VERB</tspan>\n",
              "</text>\n",
              "\n",
              "<text class=\"displacy-token\" fill=\"currentColor\" text-anchor=\"middle\" y=\"317.0\">\n",
              "    <tspan class=\"displacy-word\" fill=\"currentColor\" x=\"410\">working</tspan>\n",
              "    <tspan class=\"displacy-tag\" dy=\"2em\" fill=\"currentColor\" x=\"410\">VERB</tspan>\n",
              "</text>\n",
              "\n",
              "<text class=\"displacy-token\" fill=\"currentColor\" text-anchor=\"middle\" y=\"317.0\">\n",
              "    <tspan class=\"displacy-word\" fill=\"currentColor\" x=\"500\">on</tspan>\n",
              "    <tspan class=\"displacy-tag\" dy=\"2em\" fill=\"currentColor\" x=\"500\">ADP</tspan>\n",
              "</text>\n",
              "\n",
              "<text class=\"displacy-token\" fill=\"currentColor\" text-anchor=\"middle\" y=\"317.0\">\n",
              "    <tspan class=\"displacy-word\" fill=\"currentColor\" x=\"590\">self-</tspan>\n",
              "    <tspan class=\"displacy-tag\" dy=\"2em\" fill=\"currentColor\" x=\"590\">NOUN</tspan>\n",
              "</text>\n",
              "\n",
              "<text class=\"displacy-token\" fill=\"currentColor\" text-anchor=\"middle\" y=\"317.0\">\n",
              "    <tspan class=\"displacy-word\" fill=\"currentColor\" x=\"680\">driving</tspan>\n",
              "    <tspan class=\"displacy-tag\" dy=\"2em\" fill=\"currentColor\" x=\"680\">VERB</tspan>\n",
              "</text>\n",
              "\n",
              "<text class=\"displacy-token\" fill=\"currentColor\" text-anchor=\"middle\" y=\"317.0\">\n",
              "    <tspan class=\"displacy-word\" fill=\"currentColor\" x=\"770\">cars</tspan>\n",
              "    <tspan class=\"displacy-tag\" dy=\"2em\" fill=\"currentColor\" x=\"770\">NOUN</tspan>\n",
              "</text>\n",
              "\n",
              "<text class=\"displacy-token\" fill=\"currentColor\" text-anchor=\"middle\" y=\"317.0\">\n",
              "    <tspan class=\"displacy-word\" fill=\"currentColor\" x=\"860\">at</tspan>\n",
              "    <tspan class=\"displacy-tag\" dy=\"2em\" fill=\"currentColor\" x=\"860\">ADP</tspan>\n",
              "</text>\n",
              "\n",
              "<text class=\"displacy-token\" fill=\"currentColor\" text-anchor=\"middle\" y=\"317.0\">\n",
              "    <tspan class=\"displacy-word\" fill=\"currentColor\" x=\"950\">Google</tspan>\n",
              "    <tspan class=\"displacy-tag\" dy=\"2em\" fill=\"currentColor\" x=\"950\">PROPN</tspan>\n",
              "</text>\n",
              "\n",
              "<text class=\"displacy-token\" fill=\"currentColor\" text-anchor=\"middle\" y=\"317.0\">\n",
              "    <tspan class=\"displacy-word\" fill=\"currentColor\" x=\"1040\">in</tspan>\n",
              "    <tspan class=\"displacy-tag\" dy=\"2em\" fill=\"currentColor\" x=\"1040\">ADP</tspan>\n",
              "</text>\n",
              "\n",
              "<text class=\"displacy-token\" fill=\"currentColor\" text-anchor=\"middle\" y=\"317.0\">\n",
              "    <tspan class=\"displacy-word\" fill=\"currentColor\" x=\"1130\">2007,</tspan>\n",
              "    <tspan class=\"displacy-tag\" dy=\"2em\" fill=\"currentColor\" x=\"1130\">NUM</tspan>\n",
              "</text>\n",
              "\n",
              "<text class=\"displacy-token\" fill=\"currentColor\" text-anchor=\"middle\" y=\"317.0\">\n",
              "    <tspan class=\"displacy-word\" fill=\"currentColor\" x=\"1220\">few</tspan>\n",
              "    <tspan class=\"displacy-tag\" dy=\"2em\" fill=\"currentColor\" x=\"1220\">ADJ</tspan>\n",
              "</text>\n",
              "\n",
              "<text class=\"displacy-token\" fill=\"currentColor\" text-anchor=\"middle\" y=\"317.0\">\n",
              "    <tspan class=\"displacy-word\" fill=\"currentColor\" x=\"1310\">people</tspan>\n",
              "    <tspan class=\"displacy-tag\" dy=\"2em\" fill=\"currentColor\" x=\"1310\">NOUN</tspan>\n",
              "</text>\n",
              "\n",
              "<text class=\"displacy-token\" fill=\"currentColor\" text-anchor=\"middle\" y=\"317.0\">\n",
              "    <tspan class=\"displacy-word\" fill=\"currentColor\" x=\"1400\">outside</tspan>\n",
              "    <tspan class=\"displacy-tag\" dy=\"2em\" fill=\"currentColor\" x=\"1400\">ADV</tspan>\n",
              "</text>\n",
              "\n",
              "<text class=\"displacy-token\" fill=\"currentColor\" text-anchor=\"middle\" y=\"317.0\">\n",
              "    <tspan class=\"displacy-word\" fill=\"currentColor\" x=\"1490\">of</tspan>\n",
              "    <tspan class=\"displacy-tag\" dy=\"2em\" fill=\"currentColor\" x=\"1490\">ADP</tspan>\n",
              "</text>\n",
              "\n",
              "<text class=\"displacy-token\" fill=\"currentColor\" text-anchor=\"middle\" y=\"317.0\">\n",
              "    <tspan class=\"displacy-word\" fill=\"currentColor\" x=\"1580\">the</tspan>\n",
              "    <tspan class=\"displacy-tag\" dy=\"2em\" fill=\"currentColor\" x=\"1580\">DET</tspan>\n",
              "</text>\n",
              "\n",
              "<text class=\"displacy-token\" fill=\"currentColor\" text-anchor=\"middle\" y=\"317.0\">\n",
              "    <tspan class=\"displacy-word\" fill=\"currentColor\" x=\"1670\">company</tspan>\n",
              "    <tspan class=\"displacy-tag\" dy=\"2em\" fill=\"currentColor\" x=\"1670\">NOUN</tspan>\n",
              "</text>\n",
              "\n",
              "<text class=\"displacy-token\" fill=\"currentColor\" text-anchor=\"middle\" y=\"317.0\">\n",
              "    <tspan class=\"displacy-word\" fill=\"currentColor\" x=\"1760\">took</tspan>\n",
              "    <tspan class=\"displacy-tag\" dy=\"2em\" fill=\"currentColor\" x=\"1760\">VERB</tspan>\n",
              "</text>\n",
              "\n",
              "<text class=\"displacy-token\" fill=\"currentColor\" text-anchor=\"middle\" y=\"317.0\">\n",
              "    <tspan class=\"displacy-word\" fill=\"currentColor\" x=\"1850\">him</tspan>\n",
              "    <tspan class=\"displacy-tag\" dy=\"2em\" fill=\"currentColor\" x=\"1850\">PRON</tspan>\n",
              "</text>\n",
              "\n",
              "<text class=\"displacy-token\" fill=\"currentColor\" text-anchor=\"middle\" y=\"317.0\">\n",
              "    <tspan class=\"displacy-word\" fill=\"currentColor\" x=\"1940\">seriously.</tspan>\n",
              "    <tspan class=\"displacy-tag\" dy=\"2em\" fill=\"currentColor\" x=\"1940\">ADV</tspan>\n",
              "</text>\n",
              "\n",
              "<g class=\"displacy-arrow\">\n",
              "    <path class=\"displacy-arc\" id=\"arrow-53934d507710433295a254de90b01314-0-0\" stroke-width=\"2px\" d=\"M62,272.0 62,227.0 311.0,227.0 311.0,272.0\" fill=\"none\" stroke=\"currentColor\"/>\n",
              "    <text dy=\"1.25em\" style=\"font-size: 0.8em; letter-spacing: 1px\">\n",
              "        <textPath xlink:href=\"#arrow-53934d507710433295a254de90b01314-0-0\" class=\"displacy-label\" startOffset=\"50%\" side=\"left\" fill=\"currentColor\" text-anchor=\"middle\">advmod</textPath>\n",
              "    </text>\n",
              "    <path class=\"displacy-arrowhead\" d=\"M62,274.0 L58,266.0 66,266.0\" fill=\"currentColor\"/>\n",
              "</g>\n",
              "\n",
              "<g class=\"displacy-arrow\">\n",
              "    <path class=\"displacy-arc\" id=\"arrow-53934d507710433295a254de90b01314-0-1\" stroke-width=\"2px\" d=\"M152,272.0 152,257.0 215.0,257.0 215.0,272.0\" fill=\"none\" stroke=\"currentColor\"/>\n",
              "    <text dy=\"1.25em\" style=\"font-size: 0.8em; letter-spacing: 1px\">\n",
              "        <textPath xlink:href=\"#arrow-53934d507710433295a254de90b01314-0-1\" class=\"displacy-label\" startOffset=\"50%\" side=\"left\" fill=\"currentColor\" text-anchor=\"middle\">compound</textPath>\n",
              "    </text>\n",
              "    <path class=\"displacy-arrowhead\" d=\"M152,274.0 L148,266.0 156,266.0\" fill=\"currentColor\"/>\n",
              "</g>\n",
              "\n",
              "<g class=\"displacy-arrow\">\n",
              "    <path class=\"displacy-arc\" id=\"arrow-53934d507710433295a254de90b01314-0-2\" stroke-width=\"2px\" d=\"M242,272.0 242,257.0 305.0,257.0 305.0,272.0\" fill=\"none\" stroke=\"currentColor\"/>\n",
              "    <text dy=\"1.25em\" style=\"font-size: 0.8em; letter-spacing: 1px\">\n",
              "        <textPath xlink:href=\"#arrow-53934d507710433295a254de90b01314-0-2\" class=\"displacy-label\" startOffset=\"50%\" side=\"left\" fill=\"currentColor\" text-anchor=\"middle\">nsubj</textPath>\n",
              "    </text>\n",
              "    <path class=\"displacy-arrowhead\" d=\"M242,274.0 L238,266.0 246,266.0\" fill=\"currentColor\"/>\n",
              "</g>\n",
              "\n",
              "<g class=\"displacy-arrow\">\n",
              "    <path class=\"displacy-arc\" id=\"arrow-53934d507710433295a254de90b01314-0-3\" stroke-width=\"2px\" d=\"M332,272.0 332,182.0 1760.0,182.0 1760.0,272.0\" fill=\"none\" stroke=\"currentColor\"/>\n",
              "    <text dy=\"1.25em\" style=\"font-size: 0.8em; letter-spacing: 1px\">\n",
              "        <textPath xlink:href=\"#arrow-53934d507710433295a254de90b01314-0-3\" class=\"displacy-label\" startOffset=\"50%\" side=\"left\" fill=\"currentColor\" text-anchor=\"middle\">advcl</textPath>\n",
              "    </text>\n",
              "    <path class=\"displacy-arrowhead\" d=\"M332,274.0 L328,266.0 336,266.0\" fill=\"currentColor\"/>\n",
              "</g>\n",
              "\n",
              "<g class=\"displacy-arrow\">\n",
              "    <path class=\"displacy-arc\" id=\"arrow-53934d507710433295a254de90b01314-0-4\" stroke-width=\"2px\" d=\"M332,272.0 332,257.0 395.0,257.0 395.0,272.0\" fill=\"none\" stroke=\"currentColor\"/>\n",
              "    <text dy=\"1.25em\" style=\"font-size: 0.8em; letter-spacing: 1px\">\n",
              "        <textPath xlink:href=\"#arrow-53934d507710433295a254de90b01314-0-4\" class=\"displacy-label\" startOffset=\"50%\" side=\"left\" fill=\"currentColor\" text-anchor=\"middle\">xcomp</textPath>\n",
              "    </text>\n",
              "    <path class=\"displacy-arrowhead\" d=\"M395.0,274.0 L399.0,266.0 391.0,266.0\" fill=\"currentColor\"/>\n",
              "</g>\n",
              "\n",
              "<g class=\"displacy-arrow\">\n",
              "    <path class=\"displacy-arc\" id=\"arrow-53934d507710433295a254de90b01314-0-5\" stroke-width=\"2px\" d=\"M422,272.0 422,257.0 485.0,257.0 485.0,272.0\" fill=\"none\" stroke=\"currentColor\"/>\n",
              "    <text dy=\"1.25em\" style=\"font-size: 0.8em; letter-spacing: 1px\">\n",
              "        <textPath xlink:href=\"#arrow-53934d507710433295a254de90b01314-0-5\" class=\"displacy-label\" startOffset=\"50%\" side=\"left\" fill=\"currentColor\" text-anchor=\"middle\">prep</textPath>\n",
              "    </text>\n",
              "    <path class=\"displacy-arrowhead\" d=\"M485.0,274.0 L489.0,266.0 481.0,266.0\" fill=\"currentColor\"/>\n",
              "</g>\n",
              "\n",
              "<g class=\"displacy-arrow\">\n",
              "    <path class=\"displacy-arc\" id=\"arrow-53934d507710433295a254de90b01314-0-6\" stroke-width=\"2px\" d=\"M602,272.0 602,257.0 665.0,257.0 665.0,272.0\" fill=\"none\" stroke=\"currentColor\"/>\n",
              "    <text dy=\"1.25em\" style=\"font-size: 0.8em; letter-spacing: 1px\">\n",
              "        <textPath xlink:href=\"#arrow-53934d507710433295a254de90b01314-0-6\" class=\"displacy-label\" startOffset=\"50%\" side=\"left\" fill=\"currentColor\" text-anchor=\"middle\">npadvmod</textPath>\n",
              "    </text>\n",
              "    <path class=\"displacy-arrowhead\" d=\"M602,274.0 L598,266.0 606,266.0\" fill=\"currentColor\"/>\n",
              "</g>\n",
              "\n",
              "<g class=\"displacy-arrow\">\n",
              "    <path class=\"displacy-arc\" id=\"arrow-53934d507710433295a254de90b01314-0-7\" stroke-width=\"2px\" d=\"M692,272.0 692,257.0 755.0,257.0 755.0,272.0\" fill=\"none\" stroke=\"currentColor\"/>\n",
              "    <text dy=\"1.25em\" style=\"font-size: 0.8em; letter-spacing: 1px\">\n",
              "        <textPath xlink:href=\"#arrow-53934d507710433295a254de90b01314-0-7\" class=\"displacy-label\" startOffset=\"50%\" side=\"left\" fill=\"currentColor\" text-anchor=\"middle\">amod</textPath>\n",
              "    </text>\n",
              "    <path class=\"displacy-arrowhead\" d=\"M692,274.0 L688,266.0 696,266.0\" fill=\"currentColor\"/>\n",
              "</g>\n",
              "\n",
              "<g class=\"displacy-arrow\">\n",
              "    <path class=\"displacy-arc\" id=\"arrow-53934d507710433295a254de90b01314-0-8\" stroke-width=\"2px\" d=\"M512,272.0 512,227.0 761.0,227.0 761.0,272.0\" fill=\"none\" stroke=\"currentColor\"/>\n",
              "    <text dy=\"1.25em\" style=\"font-size: 0.8em; letter-spacing: 1px\">\n",
              "        <textPath xlink:href=\"#arrow-53934d507710433295a254de90b01314-0-8\" class=\"displacy-label\" startOffset=\"50%\" side=\"left\" fill=\"currentColor\" text-anchor=\"middle\">pobj</textPath>\n",
              "    </text>\n",
              "    <path class=\"displacy-arrowhead\" d=\"M761.0,274.0 L765.0,266.0 757.0,266.0\" fill=\"currentColor\"/>\n",
              "</g>\n",
              "\n",
              "<g class=\"displacy-arrow\">\n",
              "    <path class=\"displacy-arc\" id=\"arrow-53934d507710433295a254de90b01314-0-9\" stroke-width=\"2px\" d=\"M422,272.0 422,212.0 854.0,212.0 854.0,272.0\" fill=\"none\" stroke=\"currentColor\"/>\n",
              "    <text dy=\"1.25em\" style=\"font-size: 0.8em; letter-spacing: 1px\">\n",
              "        <textPath xlink:href=\"#arrow-53934d507710433295a254de90b01314-0-9\" class=\"displacy-label\" startOffset=\"50%\" side=\"left\" fill=\"currentColor\" text-anchor=\"middle\">prep</textPath>\n",
              "    </text>\n",
              "    <path class=\"displacy-arrowhead\" d=\"M854.0,274.0 L858.0,266.0 850.0,266.0\" fill=\"currentColor\"/>\n",
              "</g>\n",
              "\n",
              "<g class=\"displacy-arrow\">\n",
              "    <path class=\"displacy-arc\" id=\"arrow-53934d507710433295a254de90b01314-0-10\" stroke-width=\"2px\" d=\"M872,272.0 872,257.0 935.0,257.0 935.0,272.0\" fill=\"none\" stroke=\"currentColor\"/>\n",
              "    <text dy=\"1.25em\" style=\"font-size: 0.8em; letter-spacing: 1px\">\n",
              "        <textPath xlink:href=\"#arrow-53934d507710433295a254de90b01314-0-10\" class=\"displacy-label\" startOffset=\"50%\" side=\"left\" fill=\"currentColor\" text-anchor=\"middle\">pobj</textPath>\n",
              "    </text>\n",
              "    <path class=\"displacy-arrowhead\" d=\"M935.0,274.0 L939.0,266.0 931.0,266.0\" fill=\"currentColor\"/>\n",
              "</g>\n",
              "\n",
              "<g class=\"displacy-arrow\">\n",
              "    <path class=\"displacy-arc\" id=\"arrow-53934d507710433295a254de90b01314-0-11\" stroke-width=\"2px\" d=\"M422,272.0 422,197.0 1037.0,197.0 1037.0,272.0\" fill=\"none\" stroke=\"currentColor\"/>\n",
              "    <text dy=\"1.25em\" style=\"font-size: 0.8em; letter-spacing: 1px\">\n",
              "        <textPath xlink:href=\"#arrow-53934d507710433295a254de90b01314-0-11\" class=\"displacy-label\" startOffset=\"50%\" side=\"left\" fill=\"currentColor\" text-anchor=\"middle\">prep</textPath>\n",
              "    </text>\n",
              "    <path class=\"displacy-arrowhead\" d=\"M1037.0,274.0 L1041.0,266.0 1033.0,266.0\" fill=\"currentColor\"/>\n",
              "</g>\n",
              "\n",
              "<g class=\"displacy-arrow\">\n",
              "    <path class=\"displacy-arc\" id=\"arrow-53934d507710433295a254de90b01314-0-12\" stroke-width=\"2px\" d=\"M1052,272.0 1052,257.0 1115.0,257.0 1115.0,272.0\" fill=\"none\" stroke=\"currentColor\"/>\n",
              "    <text dy=\"1.25em\" style=\"font-size: 0.8em; letter-spacing: 1px\">\n",
              "        <textPath xlink:href=\"#arrow-53934d507710433295a254de90b01314-0-12\" class=\"displacy-label\" startOffset=\"50%\" side=\"left\" fill=\"currentColor\" text-anchor=\"middle\">pobj</textPath>\n",
              "    </text>\n",
              "    <path class=\"displacy-arrowhead\" d=\"M1115.0,274.0 L1119.0,266.0 1111.0,266.0\" fill=\"currentColor\"/>\n",
              "</g>\n",
              "\n",
              "<g class=\"displacy-arrow\">\n",
              "    <path class=\"displacy-arc\" id=\"arrow-53934d507710433295a254de90b01314-0-13\" stroke-width=\"2px\" d=\"M1232,272.0 1232,257.0 1295.0,257.0 1295.0,272.0\" fill=\"none\" stroke=\"currentColor\"/>\n",
              "    <text dy=\"1.25em\" style=\"font-size: 0.8em; letter-spacing: 1px\">\n",
              "        <textPath xlink:href=\"#arrow-53934d507710433295a254de90b01314-0-13\" class=\"displacy-label\" startOffset=\"50%\" side=\"left\" fill=\"currentColor\" text-anchor=\"middle\">amod</textPath>\n",
              "    </text>\n",
              "    <path class=\"displacy-arrowhead\" d=\"M1232,274.0 L1228,266.0 1236,266.0\" fill=\"currentColor\"/>\n",
              "</g>\n",
              "\n",
              "<g class=\"displacy-arrow\">\n",
              "    <path class=\"displacy-arc\" id=\"arrow-53934d507710433295a254de90b01314-0-14\" stroke-width=\"2px\" d=\"M1322,272.0 1322,212.0 1754.0,212.0 1754.0,272.0\" fill=\"none\" stroke=\"currentColor\"/>\n",
              "    <text dy=\"1.25em\" style=\"font-size: 0.8em; letter-spacing: 1px\">\n",
              "        <textPath xlink:href=\"#arrow-53934d507710433295a254de90b01314-0-14\" class=\"displacy-label\" startOffset=\"50%\" side=\"left\" fill=\"currentColor\" text-anchor=\"middle\">nsubj</textPath>\n",
              "    </text>\n",
              "    <path class=\"displacy-arrowhead\" d=\"M1322,274.0 L1318,266.0 1326,266.0\" fill=\"currentColor\"/>\n",
              "</g>\n",
              "\n",
              "<g class=\"displacy-arrow\">\n",
              "    <path class=\"displacy-arc\" id=\"arrow-53934d507710433295a254de90b01314-0-15\" stroke-width=\"2px\" d=\"M1322,272.0 1322,257.0 1385.0,257.0 1385.0,272.0\" fill=\"none\" stroke=\"currentColor\"/>\n",
              "    <text dy=\"1.25em\" style=\"font-size: 0.8em; letter-spacing: 1px\">\n",
              "        <textPath xlink:href=\"#arrow-53934d507710433295a254de90b01314-0-15\" class=\"displacy-label\" startOffset=\"50%\" side=\"left\" fill=\"currentColor\" text-anchor=\"middle\">advmod</textPath>\n",
              "    </text>\n",
              "    <path class=\"displacy-arrowhead\" d=\"M1385.0,274.0 L1389.0,266.0 1381.0,266.0\" fill=\"currentColor\"/>\n",
              "</g>\n",
              "\n",
              "<g class=\"displacy-arrow\">\n",
              "    <path class=\"displacy-arc\" id=\"arrow-53934d507710433295a254de90b01314-0-16\" stroke-width=\"2px\" d=\"M1412,272.0 1412,257.0 1475.0,257.0 1475.0,272.0\" fill=\"none\" stroke=\"currentColor\"/>\n",
              "    <text dy=\"1.25em\" style=\"font-size: 0.8em; letter-spacing: 1px\">\n",
              "        <textPath xlink:href=\"#arrow-53934d507710433295a254de90b01314-0-16\" class=\"displacy-label\" startOffset=\"50%\" side=\"left\" fill=\"currentColor\" text-anchor=\"middle\">prep</textPath>\n",
              "    </text>\n",
              "    <path class=\"displacy-arrowhead\" d=\"M1475.0,274.0 L1479.0,266.0 1471.0,266.0\" fill=\"currentColor\"/>\n",
              "</g>\n",
              "\n",
              "<g class=\"displacy-arrow\">\n",
              "    <path class=\"displacy-arc\" id=\"arrow-53934d507710433295a254de90b01314-0-17\" stroke-width=\"2px\" d=\"M1592,272.0 1592,257.0 1655.0,257.0 1655.0,272.0\" fill=\"none\" stroke=\"currentColor\"/>\n",
              "    <text dy=\"1.25em\" style=\"font-size: 0.8em; letter-spacing: 1px\">\n",
              "        <textPath xlink:href=\"#arrow-53934d507710433295a254de90b01314-0-17\" class=\"displacy-label\" startOffset=\"50%\" side=\"left\" fill=\"currentColor\" text-anchor=\"middle\">det</textPath>\n",
              "    </text>\n",
              "    <path class=\"displacy-arrowhead\" d=\"M1592,274.0 L1588,266.0 1596,266.0\" fill=\"currentColor\"/>\n",
              "</g>\n",
              "\n",
              "<g class=\"displacy-arrow\">\n",
              "    <path class=\"displacy-arc\" id=\"arrow-53934d507710433295a254de90b01314-0-18\" stroke-width=\"2px\" d=\"M1502,272.0 1502,242.0 1658.0,242.0 1658.0,272.0\" fill=\"none\" stroke=\"currentColor\"/>\n",
              "    <text dy=\"1.25em\" style=\"font-size: 0.8em; letter-spacing: 1px\">\n",
              "        <textPath xlink:href=\"#arrow-53934d507710433295a254de90b01314-0-18\" class=\"displacy-label\" startOffset=\"50%\" side=\"left\" fill=\"currentColor\" text-anchor=\"middle\">pobj</textPath>\n",
              "    </text>\n",
              "    <path class=\"displacy-arrowhead\" d=\"M1658.0,274.0 L1662.0,266.0 1654.0,266.0\" fill=\"currentColor\"/>\n",
              "</g>\n",
              "\n",
              "<g class=\"displacy-arrow\">\n",
              "    <path class=\"displacy-arc\" id=\"arrow-53934d507710433295a254de90b01314-0-19\" stroke-width=\"2px\" d=\"M1772,272.0 1772,257.0 1835.0,257.0 1835.0,272.0\" fill=\"none\" stroke=\"currentColor\"/>\n",
              "    <text dy=\"1.25em\" style=\"font-size: 0.8em; letter-spacing: 1px\">\n",
              "        <textPath xlink:href=\"#arrow-53934d507710433295a254de90b01314-0-19\" class=\"displacy-label\" startOffset=\"50%\" side=\"left\" fill=\"currentColor\" text-anchor=\"middle\">dobj</textPath>\n",
              "    </text>\n",
              "    <path class=\"displacy-arrowhead\" d=\"M1835.0,274.0 L1839.0,266.0 1831.0,266.0\" fill=\"currentColor\"/>\n",
              "</g>\n",
              "\n",
              "<g class=\"displacy-arrow\">\n",
              "    <path class=\"displacy-arc\" id=\"arrow-53934d507710433295a254de90b01314-0-20\" stroke-width=\"2px\" d=\"M1772,272.0 1772,242.0 1928.0,242.0 1928.0,272.0\" fill=\"none\" stroke=\"currentColor\"/>\n",
              "    <text dy=\"1.25em\" style=\"font-size: 0.8em; letter-spacing: 1px\">\n",
              "        <textPath xlink:href=\"#arrow-53934d507710433295a254de90b01314-0-20\" class=\"displacy-label\" startOffset=\"50%\" side=\"left\" fill=\"currentColor\" text-anchor=\"middle\">advmod</textPath>\n",
              "    </text>\n",
              "    <path class=\"displacy-arrowhead\" d=\"M1928.0,274.0 L1932.0,266.0 1924.0,266.0\" fill=\"currentColor\"/>\n",
              "</g>\n",
              "</svg></span>"
            ],
            "text/plain": [
              "<IPython.core.display.HTML object>"
            ]
          },
          "metadata": {
            "tags": []
          }
        }
      ]
    },
    {
      "cell_type": "code",
      "metadata": {
        "id": "rDRGPGfAYxpL",
        "colab_type": "code",
        "colab": {
          "base_uri": "https://localhost:8080/",
          "height": 87
        },
        "outputId": "9dad0827-6eef-4555-b416-e2fbf98da43b"
      },
      "source": [
        "displacy.render(doc ,style = 'ent'  ,jupyter = True, options= {'distance': 90 , 'compact' :True})"
      ],
      "execution_count": 56,
      "outputs": [
        {
          "output_type": "display_data",
          "data": {
            "text/html": [
              "<span class=\"tex2jax_ignore\"><div class=\"entities\" style=\"line-height: 2.5; direction: ltr\">When \n",
              "<mark class=\"entity\" style=\"background: #aa9cfc; padding: 0.45em 0.6em; margin: 0 0.25em; line-height: 1; border-radius: 0.35em;\">\n",
              "    Sebastian Thrun\n",
              "    <span style=\"font-size: 0.8em; font-weight: bold; line-height: 1; border-radius: 0.35em; text-transform: uppercase; vertical-align: middle; margin-left: 0.5rem\">PERSON</span>\n",
              "</mark>\n",
              " started working on self-driving cars at \n",
              "<mark class=\"entity\" style=\"background: #7aecec; padding: 0.45em 0.6em; margin: 0 0.25em; line-height: 1; border-radius: 0.35em;\">\n",
              "    Google\n",
              "    <span style=\"font-size: 0.8em; font-weight: bold; line-height: 1; border-radius: 0.35em; text-transform: uppercase; vertical-align: middle; margin-left: 0.5rem\">ORG</span>\n",
              "</mark>\n",
              " in \n",
              "<mark class=\"entity\" style=\"background: #bfe1d9; padding: 0.45em 0.6em; margin: 0 0.25em; line-height: 1; border-radius: 0.35em;\">\n",
              "    2007\n",
              "    <span style=\"font-size: 0.8em; font-weight: bold; line-height: 1; border-radius: 0.35em; text-transform: uppercase; vertical-align: middle; margin-left: 0.5rem\">DATE</span>\n",
              "</mark>\n",
              ", few people outside of the company took him seriously.</div></span>"
            ],
            "text/plain": [
              "<IPython.core.display.HTML object>"
            ]
          },
          "metadata": {
            "tags": []
          }
        }
      ]
    },
    {
      "cell_type": "code",
      "metadata": {
        "id": "v7dk31eSeg36",
        "colab_type": "code",
        "colab": {
          "base_uri": "https://localhost:8080/",
          "height": 72
        },
        "outputId": "c766edb2-2698-4df9-f20a-969d9f71ed66"
      },
      "source": [
        "#Stopwords\n",
        "from spacy.lang.en.stop_words import STOP_WORDS as stopwords\n",
        "print(len(stopwords))\n",
        "new_tokens = [token.text for token in doc if not token.is_punct and not token.is_stop]\n",
        "print(new_tokens)"
      ],
      "execution_count": 57,
      "outputs": [
        {
          "output_type": "stream",
          "text": [
            "326\n",
            "['Sebastian', 'Thrun', 'started', 'working', 'self', 'driving', 'cars', 'Google', '2007', 'people', 'outside', 'company', 'took', 'seriously']\n"
          ],
          "name": "stdout"
        }
      ]
    },
    {
      "cell_type": "code",
      "metadata": {
        "id": "wlOD5tOttVf5",
        "colab_type": "code",
        "colab": {
          "base_uri": "https://localhost:8080/",
          "height": 515
        },
        "outputId": "67c434a2-7665-43e4-eede-e59053900b42"
      },
      "source": [
        "#Pos ,Lemmatization , Dependency Parsing\n",
        "\n",
        "import pandas as pd\n",
        "info = []\n",
        "for token in doc:\n",
        "  info.append([token , token.lemma_ , token.ent_type_ , token.pos_ , token.tag_ , token.dep_ , token.is_punct , token.is_stop , token.is_digit])\n",
        "info = pd.DataFrame(info ,columns= ['token' , 'lemma' , 'ent' ,'pos' , 'tag' , 'dep' , 'is_punct' , 'is_stop' , 'is_digit'])\n",
        "print(info)"
      ],
      "execution_count": 75,
      "outputs": [
        {
          "output_type": "stream",
          "text": [
            "        token      lemma     ent    pos  ...       dep is_punct  is_stop  is_digit\n",
            "0        When       when            ADV  ...    advmod    False     True     False\n",
            "1   Sebastian  Sebastian  PERSON  PROPN  ...  compound    False    False     False\n",
            "2       Thrun      Thrun  PERSON  PROPN  ...     nsubj    False    False     False\n",
            "3     started      start           VERB  ...     advcl    False    False     False\n",
            "4     working       work           VERB  ...     xcomp    False    False     False\n",
            "5          on         on            ADP  ...      prep    False     True     False\n",
            "6        self       self           NOUN  ...  npadvmod    False    False     False\n",
            "7           -          -          PUNCT  ...     punct     True    False     False\n",
            "8     driving      drive           VERB  ...      amod    False    False     False\n",
            "9        cars        car           NOUN  ...      pobj    False    False     False\n",
            "10         at         at            ADP  ...      prep    False     True     False\n",
            "11     Google     Google     ORG  PROPN  ...      pobj    False    False     False\n",
            "12         in         in            ADP  ...      prep    False     True     False\n",
            "13       2007       2007    DATE    NUM  ...      pobj    False    False      True\n",
            "14          ,          ,          PUNCT  ...     punct     True    False     False\n",
            "15        few        few            ADJ  ...      amod    False     True     False\n",
            "16     people     people           NOUN  ...     nsubj    False    False     False\n",
            "17    outside    outside            ADV  ...    advmod    False    False     False\n",
            "18         of         of            ADP  ...      prep    False     True     False\n",
            "19        the        the            DET  ...       det    False     True     False\n",
            "20    company    company           NOUN  ...      pobj    False    False     False\n",
            "21       took       take           VERB  ...      ROOT    False    False     False\n",
            "22        him     -PRON-           PRON  ...      dobj    False     True     False\n",
            "23  seriously  seriously            ADV  ...    advmod    False    False     False\n",
            "24          .          .          PUNCT  ...     punct     True    False     False\n",
            "\n",
            "[25 rows x 9 columns]\n"
          ],
          "name": "stdout"
        }
      ]
    },
    {
      "cell_type": "code",
      "metadata": {
        "id": "7p9Q675Htg1Z",
        "colab_type": "code",
        "colab": {
          "base_uri": "https://localhost:8080/",
          "height": 35
        },
        "outputId": "a39fba36-f1ff-4111-f5c3-8f67c8dbe399"
      },
      "source": [
        "print(doc[1].pos_ , spacy.explain(doc[1].pos_))"
      ],
      "execution_count": 67,
      "outputs": [
        {
          "output_type": "stream",
          "text": [
            "PROPN proper noun\n"
          ],
          "name": "stdout"
        }
      ]
    },
    {
      "cell_type": "code",
      "metadata": {
        "id": "fzH4nng_w3zn",
        "colab_type": "code",
        "colab": {
          "base_uri": "https://localhost:8080/",
          "height": 70
        },
        "outputId": "0152f193-2c26-4b85-9f3a-cf7a8841395a"
      },
      "source": [
        "#Noun Phrase Detection\n",
        "conference_text = ('There is a developer conference happening on 21 July 2019 in London.')\n",
        "conference_doc = nlp(conference_text)\n",
        "# Extract Noun Phrases\n",
        "for chunk in conference_doc.noun_chunks:\n",
        "  print(chunk)"
      ],
      "execution_count": 77,
      "outputs": [
        {
          "output_type": "stream",
          "text": [
            "a developer conference\n",
            "21 July\n",
            "London\n"
          ],
          "name": "stdout"
        }
      ]
    },
    {
      "cell_type": "code",
      "metadata": {
        "id": "2eIKqXm52gvK",
        "colab_type": "code",
        "colab": {
          "base_uri": "https://localhost:8080/",
          "height": 35
        },
        "outputId": "78086341-2e85-46d3-ef20-cd71e4db24ec"
      },
      "source": [
        "from spacy.matcher import Matcher\n",
        "matcher = Matcher(nlp.vocab)\n",
        "\n",
        "doc1 = nlp(\"Aman is a notorious boy. His friend Dheeraj Dubey is a nice boy\")\n",
        "def extract_full_name(doc):\n",
        "  pattern = [{'POS': 'PROPN'}, {'POS': 'PROPN'}]\n",
        "  matcher.add('FULL_NAME', None, pattern)\n",
        "  matches = matcher(doc)\n",
        "  for match_id, start, end in matches:\n",
        "    span = doc[start:end]\n",
        "    print(span.text)\n",
        "  return\n",
        "\n",
        "extract_full_name(doc1)"
      ],
      "execution_count": 86,
      "outputs": [
        {
          "output_type": "stream",
          "text": [
            "Dheeraj Dubey\n"
          ],
          "name": "stdout"
        }
      ]
    },
    {
      "cell_type": "markdown",
      "metadata": {
        "id": "gM8b8T7m4WHZ",
        "colab_type": "text"
      },
      "source": [
        "**References-**\n",
        "\n",
        "https://course.spacy.io/en\n",
        "\n",
        "https://spacy.io/usage\n",
        "\n",
        "https://realpython.com/natural-language-processing-spacy-python/\n",
        "\n"
      ]
    },
    {
      "cell_type": "code",
      "metadata": {
        "id": "D0knacnz3UCU",
        "colab_type": "code",
        "colab": {}
      },
      "source": [
        ""
      ],
      "execution_count": null,
      "outputs": []
    }
  ]
}
